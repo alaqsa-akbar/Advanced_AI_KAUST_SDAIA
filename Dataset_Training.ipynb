{
  "cells": [
    {
      "cell_type": "markdown",
      "metadata": {
        "id": "UdFbFtpIu4hY"
      },
      "source": [
        "Exercise 1: The data below is for an image classification problem. Your tasks are as follows:\n",
        "\n",
        "\n",
        "\n",
        "1.   Write Dataloaders\n",
        "2.   Train DNN\n",
        "3.   Get labels for test set\n",
        "4.   Upload the code (.ipynb) and your labels titled (submission.csv)\n",
        "\n",
        "\n",
        "\n",
        "Your codes should be original, codes copied from the internet will result in automatic fail. You can use Phyton libraries in your work\n",
        "\n",
        "\n"
      ]
    },
    {
      "cell_type": "code",
      "execution_count": null,
      "metadata": {
        "id": "Ew7x3_mK7VeG"
      },
      "outputs": [],
      "source": [
        "!wget -O data.zip https://www.dropbox.com/s/ycmjuhxqprj0s8j/data.zip?dl=0\n",
        "!unzip data.zip"
      ]
    },
    {
      "cell_type": "code",
      "source": [
        "import os\n",
        "os.path.join('/data/images', 'train', '0.jpg')"
      ],
      "metadata": {
        "colab": {
          "base_uri": "https://localhost:8080/",
          "height": 35
        },
        "id": "oYhRb90mWwmk",
        "outputId": "5c5ea9c6-038f-4bf7-a1ff-27d48566d312"
      },
      "execution_count": null,
      "outputs": [
        {
          "output_type": "execute_result",
          "data": {
            "text/plain": [
              "'/data/images/train/0.jpg'"
            ],
            "application/vnd.google.colaboratory.intrinsic+json": {
              "type": "string"
            }
          },
          "metadata": {},
          "execution_count": 2
        }
      ]
    },
    {
      "cell_type": "code",
      "source": [
        "import torch\n",
        "from torch.utils.data import Dataset\n",
        "from torchvision.transforms import v2\n",
        "from PIL import Image\n",
        "\n",
        "import os\n",
        "import pandas as pd\n",
        "\n",
        "class MyDataSet(Dataset):\n",
        "    def __init__(self, images, labels, split='train', transform=v2.Compose([v2.ToImage(), v2.ToDtype(torch.float32, scale=True)])):\n",
        "        self.split = split\n",
        "        self.images = os.path.join(images, self.split)\n",
        "        self.dataset = [os.path.join(self.images, img) for img in os.listdir(self.images)]\n",
        "        self.labels = pd.read_csv(labels)\n",
        "        self.transform = transform\n",
        "\n",
        "    def __len__(self):\n",
        "        return len(self.dataset)\n",
        "\n",
        "    def __getitem__(self, idx):\n",
        "        img = self.dataset[idx]\n",
        "        img = Image.open(img).convert('RGB')\n",
        "        img = self.transform(img)\n",
        "\n",
        "        if self.split == 'train':\n",
        "            label = self.labels.iloc[idx, 1]\n",
        "            return img, label\n",
        "        else:\n",
        "            return img"
      ],
      "metadata": {
        "id": "s1YKwpT-VG5i"
      },
      "execution_count": null,
      "outputs": []
    },
    {
      "cell_type": "code",
      "source": [
        "train_set = MyDataSet(images='/content/data/images', labels='/content/data/train_labels.csv', split='train')\n",
        "test_set = MyDataSet(images='/content/data/images', labels='/content/data/train_labels.csv', split='test')"
      ],
      "metadata": {
        "id": "1jmW9uy7Y6ms"
      },
      "execution_count": null,
      "outputs": []
    },
    {
      "cell_type": "code",
      "source": [
        "from torch.utils.data import DataLoader\n",
        "\n",
        "train_loader = DataLoader(train_set, batch_size=64, shuffle=True)"
      ],
      "metadata": {
        "id": "1isY0owObLPm"
      },
      "execution_count": null,
      "outputs": []
    },
    {
      "cell_type": "code",
      "source": [
        "v2.functional.to_pil_image(train_set[5][0])"
      ],
      "metadata": {
        "colab": {
          "base_uri": "https://localhost:8080/",
          "height": 49
        },
        "id": "p7e0nAqRbgWH",
        "outputId": "10999ccb-9e76-4b81-9cef-d808e2fc3c61"
      },
      "execution_count": null,
      "outputs": [
        {
          "output_type": "execute_result",
          "data": {
            "text/plain": [
              "<PIL.Image.Image image mode=RGB size=32x32>"
            ],
            "image/png": "[encoded data removed]"
          },
          "metadata": {},
          "execution_count": 48
        }
      ]
    },
    {
      "cell_type": "code",
      "source": [
        "train_set[5][1]"
      ],
      "metadata": {
        "colab": {
          "base_uri": "https://localhost:8080/"
        },
        "id": "ZO0dbx_7dkke",
        "outputId": "049ff664-75b2-4135-b2f5-f880ecae4130"
      },
      "execution_count": null,
      "outputs": [
        {
          "output_type": "execute_result",
          "data": {
            "text/plain": [
              "6"
            ]
          },
          "metadata": {},
          "execution_count": 49
        }
      ]
    }
  ],
  "metadata": {
    "colab": {
      "provenance": []
    },
    "kernelspec": {
      "display_name": "Python 3",
      "name": "python3"
    },
    "language_info": {
      "name": "python"
    }
  },
  "nbformat": 4,
  "nbformat_minor": 0
}