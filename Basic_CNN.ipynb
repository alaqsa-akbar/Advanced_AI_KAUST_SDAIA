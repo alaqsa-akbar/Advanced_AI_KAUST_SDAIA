{
  "nbformat": 4,
  "nbformat_minor": 0,
  "metadata": {
    "colab": {
      "provenance": [],
      "gpuType": "T4"
    },
    "kernelspec": {
      "name": "python3",
      "display_name": "Python 3"
    },
    "language_info": {
      "name": "python"
    },
    "accelerator": "GPU"
  },
  "cells": [
    {
      "cell_type": "code",
      "execution_count": null,
      "metadata": {
        "id": "biXWg9VaNYF1"
      },
      "outputs": [],
      "source": [
        "import torch\n",
        "import matplotlib.pyplot as plt\n",
        "import torch.nn as nn\n",
        "from torchvision.datasets import CIFAR10, MNIST\n",
        "import torch.optim as optim\n",
        "from torch.utils.data import DataLoader\n",
        "import torchvision.transforms as T"
      ]
    },
    {
      "cell_type": "code",
      "source": [
        "train_set = CIFAR10(root='/', download=True, train=True, transform=T.ToTensor())\n",
        "train_set, val_set = torch.utils.data.random_split(train_set, [0.8, 0.2])\n",
        "test_set = CIFAR10(root='/', download=True, train=False, transform=T.ToTensor())"
      ],
      "metadata": {
        "colab": {
          "base_uri": "https://localhost:8080/"
        },
        "id": "PLaQENz9NwCg",
        "outputId": "6e41e75b-fa23-42f7-e1f6-baffe84360e5"
      },
      "execution_count": null,
      "outputs": [
        {
          "output_type": "stream",
          "name": "stdout",
          "text": [
            "Downloading https://www.cs.toronto.edu/~kriz/cifar-10-python.tar.gz to /cifar-10-python.tar.gz\n"
          ]
        },
        {
          "output_type": "stream",
          "name": "stderr",
          "text": [
            "100%|██████████| 170498071/170498071 [00:06<00:00, 28220362.21it/s]\n"
          ]
        },
        {
          "output_type": "stream",
          "name": "stdout",
          "text": [
            "Extracting /cifar-10-python.tar.gz to /\n",
            "Files already downloaded and verified\n"
          ]
        }
      ]
    },
    {
      "cell_type": "code",
      "source": [
        "train_loader = DataLoader(train_set, batch_size=64, shuffle=True)\n",
        "val_loader = DataLoader(val_set, batch_size=64, shuffle=True)\n",
        "test_loader = DataLoader(test_set, batch_size=64, shuffle=True)"
      ],
      "metadata": {
        "id": "kBMW87qPOU9h"
      },
      "execution_count": null,
      "outputs": []
    },
    {
      "cell_type": "code",
      "source": [
        "# LeNet5\n",
        "class CNN(nn.Module):\n",
        "    def __init__(self):\n",
        "        super().__init__()\n",
        "        self.model = nn.Sequential(\n",
        "            # 3 x 32 x 32\n",
        "            nn.Conv2d(in_channels=3, out_channels=32, kernel_size=3, padding=1),\n",
        "            nn.ReLU(),\n",
        "            nn.MaxPool2d(kernel_size=2),\n",
        "\n",
        "            # 32 x 16 x 16\n",
        "            nn.Conv2d(in_channels=32, out_channels=64, kernel_size=3, padding=1),\n",
        "            nn.ReLU(),\n",
        "            nn.MaxPool2d(kernel_size=2),\n",
        "\n",
        "            # 64 x 8 x 8\n",
        "            nn.Flatten(),\n",
        "            nn.Linear(in_features=64*8*8, out_features=1024),\n",
        "            nn.ReLU(),\n",
        "\n",
        "            nn.Linear(in_features=1024, out_features=128),\n",
        "            nn.ReLU(),\n",
        "\n",
        "            nn.Linear(in_features=128, out_features=10),\n",
        "        )\n",
        "\n",
        "    def forward(self, x):\n",
        "        return self.model(x)"
      ],
      "metadata": {
        "id": "aczFBX2cPJox"
      },
      "execution_count": null,
      "outputs": []
    },
    {
      "cell_type": "code",
      "source": [
        "device=torch.device('cuda' if torch.cuda.is_available() else 'cpu')\n",
        "model = CNN().to(device)\n",
        "\n",
        "lr=1e-4\n",
        "weight_decay=1e-2\n",
        "num_epochs=50\n",
        "criterion=nn.CrossEntropyLoss()\n",
        "\n",
        "transform_train = tt.Compose([tt.RandomCrop(32, padding=4,padding_mode='reflect'),\n",
        "                         tt.RandomHorizontalFlip(),\n",
        "                         tt.ToTensor(),\n",
        "                         tt.Normalize(mean,std,inplace=True)])\n",
        "transform_test = tt.Compose([tt.ToTensor(), tt.Normalize(mean,std)])\n",
        "\n",
        "\n",
        "\n",
        "optimizer=optim.Adam(model.parameters(), lr=lr, weight_decay=weight_decay)"
      ],
      "metadata": {
        "id": "dR3EL0PjRW3i"
      },
      "execution_count": null,
      "outputs": []
    },
    {
      "cell_type": "code",
      "source": [
        "%%time\n",
        "\n",
        "val_losses = []\n",
        "train_losses = []\n",
        "\n",
        "for epoch_num in range(num_epochs):\n",
        "    model.train()\n",
        "\n",
        "    epoch_losses = 0\n",
        "\n",
        "    for batch_x, batch_y in train_loader:\n",
        "        batch_x = batch_x.to(device)\n",
        "        batch_y = batch_y.to(device)\n",
        "\n",
        "        batch_y_preds = model(batch_x)\n",
        "\n",
        "        loss = criterion(batch_y_preds, batch_y)\n",
        "\n",
        "        optimizer.zero_grad()\n",
        "        loss.backward()\n",
        "        optimizer.step()\n",
        "\n",
        "        epoch_losses += (len(batch_y)*loss.item())\n",
        "\n",
        "    epoch_loss = epoch_losses/len(train_loader.dataset)\n",
        "    train_losses.append(epoch_loss)\n",
        "\n",
        "    model.eval()\n",
        "    correctly_labelled = 0\n",
        "    with torch.no_grad():\n",
        "        val_epoch_losses = 0\n",
        "        for val_batch_x, val_batch_y in val_loader:\n",
        "            val_batch_x = val_batch_x.to(device)\n",
        "            val_batch_y = val_batch_y.to(device)\n",
        "\n",
        "            val_batch_y_preds = model(val_batch_x)\n",
        "            val_loss = criterion(val_batch_y_preds, val_batch_y)\n",
        "            val_epoch_losses += (len(val_batch_y)*val_loss.item())\n",
        "\n",
        "            correctly_labelled += (val_batch_y_preds.argmax(dim=1) == val_batch_y).sum().item()\n",
        "\n",
        "        val_epoch_loss = val_epoch_losses/len(val_loader.dataset)\n",
        "        val_losses.append(val_epoch_loss)\n",
        "\n",
        "    print(f'Epoch: {epoch_num}, train_loss={epoch_loss}, val_loss={val_epoch_loss}. labelled {correctly_labelled}/{len(val_loader.dataset)} correctly ({correctly_labelled/len(val_loader.dataset)*100}% accuracy)')\n",
        "print('Training Done')\n",
        "\n"
      ],
      "metadata": {
        "colab": {
          "base_uri": "https://localhost:8080/"
        },
        "id": "Ls7HkkJ0ScMX",
        "outputId": "75c95e1e-1f56-4985-beab-73754c0a82b5"
      },
      "execution_count": null,
      "outputs": [
        {
          "output_type": "stream",
          "name": "stdout",
          "text": [
            "Epoch: 0, train_loss=2.0317899759292604, val_loss=1.827742086982727. labelled 3223/10000 correctly (32.23% accuracy)\n",
            "Epoch: 1, train_loss=1.767799003791809, val_loss=1.6878123737335204. labelled 3896/10000 correctly (38.96% accuracy)\n",
            "Epoch: 2, train_loss=1.66527866230011, val_loss=1.62733256149292. labelled 4080/10000 correctly (40.8% accuracy)\n",
            "Epoch: 3, train_loss=1.6075769088745118, val_loss=1.5586883451461793. labelled 4342/10000 correctly (43.419999999999995% accuracy)\n",
            "Epoch: 4, train_loss=1.5609769956588746, val_loss=1.545635646057129. labelled 4435/10000 correctly (44.35% accuracy)\n",
            "Epoch: 5, train_loss=1.5248578666687012, val_loss=1.508217764854431. labelled 4487/10000 correctly (44.87% accuracy)\n",
            "Epoch: 6, train_loss=1.4835954725265503, val_loss=1.461073310470581. labelled 4695/10000 correctly (46.949999999999996% accuracy)\n",
            "Epoch: 7, train_loss=1.462047303390503, val_loss=1.4398536884307862. labelled 4809/10000 correctly (48.089999999999996% accuracy)\n",
            "Epoch: 8, train_loss=1.4300963394165038, val_loss=1.409938014984131. labelled 4870/10000 correctly (48.699999999999996% accuracy)\n",
            "Epoch: 9, train_loss=1.4057308057785034, val_loss=1.4010002328872682. labelled 4908/10000 correctly (49.08% accuracy)\n",
            "Epoch: 10, train_loss=1.3827005881309509, val_loss=1.3822019905090333. labelled 5019/10000 correctly (50.19% accuracy)\n",
            "Epoch: 11, train_loss=1.3574688894271851, val_loss=1.4210243394851685. labelled 4791/10000 correctly (47.910000000000004% accuracy)\n",
            "Epoch: 12, train_loss=1.3423727968215942, val_loss=1.3273582145690919. labelled 5233/10000 correctly (52.33% accuracy)\n",
            "Epoch: 13, train_loss=1.323699856185913, val_loss=1.3365076721191407. labelled 5151/10000 correctly (51.51% accuracy)\n",
            "Epoch: 14, train_loss=1.3041939569473266, val_loss=1.3026870538711548. labelled 5375/10000 correctly (53.75% accuracy)\n",
            "Epoch: 15, train_loss=1.2925039600372314, val_loss=1.3252394485473633. labelled 5182/10000 correctly (51.82% accuracy)\n",
            "Epoch: 16, train_loss=1.2792762602806091, val_loss=1.2861718656539918. labelled 5407/10000 correctly (54.06999999999999% accuracy)\n",
            "Epoch: 17, train_loss=1.2650294922828675, val_loss=1.260911522293091. labelled 5442/10000 correctly (54.42% accuracy)\n",
            "Epoch: 18, train_loss=1.2504563980102539, val_loss=1.2543550659179687. labelled 5494/10000 correctly (54.94% accuracy)\n",
            "Epoch: 19, train_loss=1.2348988958358764, val_loss=1.2427213248252869. labelled 5564/10000 correctly (55.64% accuracy)\n",
            "Epoch: 20, train_loss=1.2245810729980469, val_loss=1.2393414855957032. labelled 5545/10000 correctly (55.45% accuracy)\n",
            "Epoch: 21, train_loss=1.218152135658264, val_loss=1.211711626815796. labelled 5681/10000 correctly (56.81% accuracy)\n",
            "Epoch: 22, train_loss=1.2036096625328063, val_loss=1.2126314874649047. labelled 5670/10000 correctly (56.699999999999996% accuracy)\n",
            "Epoch: 23, train_loss=1.1924603087425232, val_loss=1.209298212814331. labelled 5632/10000 correctly (56.32% accuracy)\n",
            "Epoch: 24, train_loss=1.1830210175514222, val_loss=1.175122705078125. labelled 5790/10000 correctly (57.9% accuracy)\n",
            "Epoch: 25, train_loss=1.170151519203186, val_loss=1.1758163000106812. labelled 5789/10000 correctly (57.89% accuracy)\n",
            "Epoch: 26, train_loss=1.1635132709503173, val_loss=1.1931374469757081. labelled 5713/10000 correctly (57.13% accuracy)\n",
            "Epoch: 27, train_loss=1.1549981668472291, val_loss=1.1729415767669678. labelled 5810/10000 correctly (58.099999999999994% accuracy)\n",
            "Epoch: 28, train_loss=1.1406018125534059, val_loss=1.1456712992668152. labelled 5933/10000 correctly (59.330000000000005% accuracy)\n",
            "Epoch: 29, train_loss=1.1329988348007203, val_loss=1.1829821586608886. labelled 5814/10000 correctly (58.14% accuracy)\n",
            "Epoch: 30, train_loss=1.1247821429252625, val_loss=1.142136121749878. labelled 5910/10000 correctly (59.099999999999994% accuracy)\n",
            "Epoch: 31, train_loss=1.114062811279297, val_loss=1.1199868762969971. labelled 6038/10000 correctly (60.38% accuracy)\n",
            "Epoch: 32, train_loss=1.1076658512115478, val_loss=1.1279399901390075. labelled 6018/10000 correctly (60.18% accuracy)\n",
            "Epoch: 33, train_loss=1.0984637704849243, val_loss=1.1318841285705565. labelled 5933/10000 correctly (59.330000000000005% accuracy)\n",
            "Epoch: 34, train_loss=1.0897402526855469, val_loss=1.1373440292358399. labelled 5991/10000 correctly (59.91% accuracy)\n",
            "Epoch: 35, train_loss=1.0859601062774658, val_loss=1.099040147972107. labelled 6112/10000 correctly (61.12% accuracy)\n",
            "Epoch: 36, train_loss=1.0761798782348633, val_loss=1.1407656114578246. labelled 5899/10000 correctly (58.989999999999995% accuracy)\n",
            "Epoch: 37, train_loss=1.0718589431762695, val_loss=1.0828542954444886. labelled 6136/10000 correctly (61.36000000000001% accuracy)\n",
            "Epoch: 38, train_loss=1.0594030042648315, val_loss=1.1205474754333495. labelled 5953/10000 correctly (59.53000000000001% accuracy)\n",
            "Epoch: 39, train_loss=1.049269228076935, val_loss=1.0796098977088928. labelled 6193/10000 correctly (61.92999999999999% accuracy)\n",
            "Epoch: 40, train_loss=1.0462858244895934, val_loss=1.0947053117752075. labelled 6138/10000 correctly (61.38% accuracy)\n",
            "Epoch: 41, train_loss=1.042800944519043, val_loss=1.0681723017692566. labelled 6203/10000 correctly (62.029999999999994% accuracy)\n",
            "Epoch: 42, train_loss=1.0305360734939575, val_loss=1.0787275409698487. labelled 6122/10000 correctly (61.22% accuracy)\n",
            "Epoch: 43, train_loss=1.0205495957374573, val_loss=1.0597657524108888. labelled 6212/10000 correctly (62.12% accuracy)\n",
            "Epoch: 44, train_loss=1.0143530814170838, val_loss=1.0431145133972168. labelled 6280/10000 correctly (62.8% accuracy)\n",
            "Epoch: 45, train_loss=1.0099819655418396, val_loss=1.0816855171203614. labelled 6138/10000 correctly (61.38% accuracy)\n",
            "Epoch: 46, train_loss=1.0006932469367982, val_loss=1.0448300082206725. labelled 6297/10000 correctly (62.970000000000006% accuracy)\n",
            "Epoch: 47, train_loss=0.9946104555130005, val_loss=1.0464573195457458. labelled 6261/10000 correctly (62.61% accuracy)\n",
            "Epoch: 48, train_loss=0.9905303874969482, val_loss=1.0505705419540405. labelled 6271/10000 correctly (62.71% accuracy)\n",
            "Epoch: 49, train_loss=0.9831756053924561, val_loss=1.028506453704834. labelled 6319/10000 correctly (63.190000000000005% accuracy)\n",
            "Training Done\n",
            "CPU times: user 8min 52s, sys: 3.16 s, total: 8min 55s\n",
            "Wall time: 9min 24s\n"
          ]
        }
      ]
    },
    {
      "cell_type": "code",
      "source": [
        "\n",
        "\n",
        "plt.plot(train_losses, label='train loss')\n",
        "plt.plot(val_losses, label='val loss')\n",
        "plt.xlabel('Epoch')\n",
        "plt.ylabel('Loss (Cross Entropy)')\n",
        "plt.legend()\n",
        "plt.show()\n",
        "\n"
      ],
      "metadata": {
        "colab": {
          "base_uri": "https://localhost:8080/",
          "height": 449
        },
        "id": "LIGxOJ-WVIhr",
        "outputId": "866db1d9-a017-4f04-99b9-fb23370dfaf6"
      },
      "execution_count": null,
      "outputs": [
        {
          "output_type": "display_data",
          "data": {
            "text/plain": [
              "<Figure size 640x480 with 1 Axes>"
            ],
            "image/png": "[encoded data removed]"
          },
          "metadata": {}
        }
      ]
    },
    {
      "cell_type": "code",
      "source": [
        "model.eval()\n",
        "correctly_labelled = 0\n",
        "with torch.no_grad():\n",
        "    val_epoch_losses = 0\n",
        "    for test_batch_x, test_batch_y in test_loader:\n",
        "        test_batch_x = test_batch_x.to(device)\n",
        "        test_batch_y = test_batch_y.to(device)\n",
        "\n",
        "        test_batch_y_preds = model(test_batch_x)\n",
        "        test_loss = criterion(test_batch_y_preds, test_batch_y)\n",
        "\n",
        "        correctly_labelled += (test_batch_y_preds.argmax(dim=1) == test_batch_y).sum().item()\n",
        "\n",
        "    test_epoch_loss = val_epoch_losses/len(test_loader.dataset)\n",
        "    print(f'Labelled {correctly_labelled}/{len(test_loader.dataset)} correctly ({correctly_labelled/len(test_loader.dataset)*100}% accuracy)')\n"
      ],
      "metadata": {
        "colab": {
          "base_uri": "https://localhost:8080/"
        },
        "id": "BT-KrcuPVLwB",
        "outputId": "bdcaa1a7-6bec-4387-addc-1cfeebd82653"
      },
      "execution_count": null,
      "outputs": [
        {
          "output_type": "stream",
          "name": "stdout",
          "text": [
            "Labelled 6342/10000 correctly (63.42% accuracy)\n"
          ]
        }
      ]
    }
  ]
}