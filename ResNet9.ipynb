{
  "nbformat": 4,
  "nbformat_minor": 0,
  "metadata": {
    "colab": {
      "provenance": [],
      "gpuType": "T4"
    },
    "kernelspec": {
      "name": "python3",
      "display_name": "Python 3"
    },
    "language_info": {
      "name": "python"
    },
    "accelerator": "GPU"
  },
  "cells": [
    {
      "cell_type": "code",
      "execution_count": 1,
      "metadata": {
        "id": "biXWg9VaNYF1"
      },
      "outputs": [],
      "source": [
        "import torch\n",
        "import matplotlib.pyplot as plt\n",
        "import torch.nn as nn\n",
        "from torchvision.datasets import CIFAR10\n",
        "import torch.optim as optim\n",
        "from torch.utils.data import DataLoader\n",
        "import torchvision.transforms as tt\n",
        "import torchvision.models as models\n",
        "import numpy as np"
      ]
    },
    {
      "cell_type": "code",
      "source": [
        "train_set = CIFAR10(root='/', download=True, train=True)"
      ],
      "metadata": {
        "colab": {
          "base_uri": "https://localhost:8080/"
        },
        "id": "PLaQENz9NwCg",
        "outputId": "52d53fc5-9f46-4b84-b87f-6761d41fcc65"
      },
      "execution_count": 2,
      "outputs": [
        {
          "output_type": "stream",
          "name": "stdout",
          "text": [
            "Downloading https://www.cs.toronto.edu/~kriz/cifar-10-python.tar.gz to /cifar-10-python.tar.gz\n"
          ]
        },
        {
          "output_type": "stream",
          "name": "stderr",
          "text": [
            "100%|██████████| 170498071/170498071 [00:01<00:00, 88127718.17it/s] \n"
          ]
        },
        {
          "output_type": "stream",
          "name": "stdout",
          "text": [
            "Extracting /cifar-10-python.tar.gz to /\n"
          ]
        }
      ]
    },
    {
      "cell_type": "code",
      "source": [
        "# Stick all the images together to form a 1600000 X 32 X 3 array\n",
        "x = np.concatenate([np.asarray(train_set[i][0]) for i in range(len(train_set))])\n",
        "\n",
        "# calculate the mean and std along the (0, 1) axes\n",
        "mean = np.mean(x, axis=(0, 1))/255\n",
        "std = np.std(x, axis=(0, 1))/255\n",
        "# the the mean and std\n",
        "mean=mean.tolist()\n",
        "std=std.tolist()"
      ],
      "metadata": {
        "id": "kvnTHCrvi9wZ"
      },
      "execution_count": 3,
      "outputs": []
    },
    {
      "cell_type": "code",
      "source": [
        "transform_train = tt.Compose([tt.RandomCrop(32, padding=4,padding_mode='reflect'),\n",
        "                         tt.RandomHorizontalFlip(),\n",
        "                         tt.ToTensor(),\n",
        "                         tt.Normalize(mean,std,inplace=True)])\n",
        "transform_test = tt.Compose([tt.ToTensor(), tt.Normalize(mean,std)])"
      ],
      "metadata": {
        "id": "oojLKwoFjMEL"
      },
      "execution_count": 4,
      "outputs": []
    },
    {
      "cell_type": "code",
      "source": [
        "train_set = CIFAR10(root='/', download=True, train=True, transform=transform_train)\n",
        "train_set, val_set = torch.utils.data.random_split(train_set, [0.8, 0.2])\n",
        "test_set = CIFAR10(root='/', download=True, train=False, transform=transform_test)"
      ],
      "metadata": {
        "colab": {
          "base_uri": "https://localhost:8080/"
        },
        "id": "9XzvH8SfjdSN",
        "outputId": "8cff10c2-bf89-43f9-98b6-9b3978e61649"
      },
      "execution_count": 5,
      "outputs": [
        {
          "output_type": "stream",
          "name": "stdout",
          "text": [
            "Files already downloaded and verified\n",
            "Files already downloaded and verified\n"
          ]
        }
      ]
    },
    {
      "cell_type": "code",
      "source": [
        "train_loader = DataLoader(train_set, batch_size=64, shuffle=True)\n",
        "val_loader = DataLoader(val_set, batch_size=64, shuffle=True)\n",
        "test_loader = DataLoader(test_set, batch_size=64, shuffle=True)"
      ],
      "metadata": {
        "id": "kBMW87qPOU9h"
      },
      "execution_count": 6,
      "outputs": []
    },
    {
      "cell_type": "code",
      "source": [
        "# ResNet9\n",
        "def conv_block(in_channels, out_channels, relu=True, pool=False):\n",
        "    layers = [\n",
        "        nn.Conv2d(in_channels, out_channels, kernel_size=3, padding=1),\n",
        "        nn.BatchNorm2d(out_channels),\n",
        "    ]\n",
        "    if relu: layers.append(nn.ReLU(inplace=True))\n",
        "    if pool: layers.append(nn.MaxPool2d(2))\n",
        "    return nn.Sequential(*layers)\n",
        "\n",
        "class Resnet9(nn.Module):\n",
        "    def __init__(self):\n",
        "        super().__init__()\n",
        "        self.conv1 = conv_block(3, 64)\n",
        "        self.conv2 = conv_block(64, 128, pool=True)\n",
        "        self.res1 = nn.Sequential(conv_block(128, 128), conv_block(128, 128))\n",
        "\n",
        "        self.conv3 = conv_block(128, 256, pool=True)\n",
        "        self.conv4 = conv_block(256, 256, pool=True)\n",
        "        self.res2 = nn.Sequential(conv_block(256, 256), conv_block(256, 256))\n",
        "\n",
        "        self.fc = nn.Sequential(\n",
        "            nn.MaxPool2d(2),\n",
        "            nn.Flatten(),\n",
        "            nn.Linear(1024, 128),\n",
        "            nn.ReLU(),\n",
        "            nn.Linear(128, 10)\n",
        "        )\n",
        "\n",
        "    def forward(self, x):\n",
        "        x = self.conv1(x)\n",
        "        x = self.conv2(x)\n",
        "        x = self.res1(x) + x\n",
        "        x = self.conv3(x)\n",
        "        x = self.conv4(x)\n",
        "        x = self.res2(x) + x\n",
        "        x = self.fc(x)\n",
        "        return x\n"
      ],
      "metadata": {
        "id": "aczFBX2cPJox"
      },
      "execution_count": 7,
      "outputs": []
    },
    {
      "cell_type": "code",
      "source": [
        "def conv_block(in_channels, out_channels, relu=True, pool=False):\n",
        "    layers = [\n",
        "        nn.Conv2d(in_channels, out_channels, kernel_size=3, padding=1),\n",
        "        nn.BatchNorm2d(out_channels),\n",
        "    ]\n",
        "    if relu: layers.append(nn.ReLU(inplace=True))\n",
        "    if pool: layers.append(nn.MaxPool2d(2))\n",
        "    return nn.Sequential(*layers)\n",
        "\n",
        "class ResNet9(nn.Module):\n",
        "    def __init__(self):\n",
        "        super().__init__()\n",
        "        self.conv1 = conv_block(3, 64)\n",
        "        self.conv2 = conv_block(64, 128, pool=True)\n",
        "\n",
        "        self.res1 = nn.Sequential(conv_block(128, 128), conv_block(128, 128, relu=False))\n",
        "\n",
        "        self.res2 = nn.Sequential(conv_block(128, 256), conv_block(256, 512, relu=False))\n",
        "        self.upsample = nn.Conv2d(128, 512, kernel_size=1)\n",
        "\n",
        "        self.res3 = nn.Sequential(conv_block(512, 512), conv_block(512, 512, relu=False))\n",
        "\n",
        "        self.fc = nn.Sequential(\n",
        "            nn.Flatten(),\n",
        "            nn.Linear(2048, 512),\n",
        "            nn.ReLU(),\n",
        "            nn.Linear(512, 10)\n",
        "        )\n",
        "\n",
        "        self.relu = nn.ReLU()\n",
        "        self.maxpool = nn.MaxPool2d(2)\n",
        "\n",
        "    def forward(self, x):\n",
        "        x = self.conv1(x)\n",
        "        x = self.conv2(x)\n",
        "        # print(x.shape)\n",
        "        x = self.maxpool(self.relu(self.res1(x) + x))\n",
        "        # print(x.shape)\n",
        "        x = self.maxpool(self.relu(self.res2(x) + self.upsample(x)))\n",
        "        # print(x.shape)\n",
        "        x = self.maxpool(self.relu(self.res3(x) + x))\n",
        "        # print(x.shape)\n",
        "        x = self.fc(x)\n",
        "        return x"
      ],
      "metadata": {
        "id": "Oei60ptgW9Zm"
      },
      "execution_count": 17,
      "outputs": []
    },
    {
      "cell_type": "code",
      "source": [
        "device=torch.device('cuda' if torch.cuda.is_available() else 'cpu')\n",
        "model = ResNet9().to(device)\n",
        "\n",
        "lr=1e-3\n",
        "weight_decay=1e-2\n",
        "criterion=nn.CrossEntropyLoss()\n",
        "\n",
        "optimizer=optim.Adam(model.parameters(), lr=lr, weight_decay=weight_decay)\n",
        "scheduler=optim.lr_scheduler.ExponentialLR(optimizer, gamma=0.95)\n"
      ],
      "metadata": {
        "id": "dR3EL0PjRW3i"
      },
      "execution_count": 18,
      "outputs": []
    },
    {
      "cell_type": "code",
      "source": [
        "def train(epochs):\n",
        "    val_losses = []\n",
        "    train_losses = []\n",
        "\n",
        "    for epoch_num in range(epochs):\n",
        "        model.train()\n",
        "\n",
        "        epoch_losses = 0\n",
        "\n",
        "        for batch_x, batch_y in train_loader:\n",
        "            batch_x = batch_x.to(device)\n",
        "            batch_y = batch_y.to(device)\n",
        "\n",
        "            batch_y_preds = model(batch_x)\n",
        "\n",
        "            loss = criterion(batch_y_preds, batch_y)\n",
        "\n",
        "            optimizer.zero_grad()\n",
        "            loss.backward()\n",
        "            optimizer.step()\n",
        "\n",
        "            epoch_losses += (len(batch_y)*loss.item())\n",
        "\n",
        "        epoch_loss = epoch_losses/len(train_loader.dataset)\n",
        "        train_losses.append(epoch_loss)\n",
        "\n",
        "        model.eval()\n",
        "        correctly_labelled = 0\n",
        "        with torch.no_grad():\n",
        "            val_epoch_losses = 0\n",
        "            for val_batch_x, val_batch_y in val_loader:\n",
        "                val_batch_x = val_batch_x.to(device)\n",
        "                val_batch_y = val_batch_y.to(device)\n",
        "\n",
        "                val_batch_y_preds = model(val_batch_x)\n",
        "                val_loss = criterion(val_batch_y_preds, val_batch_y)\n",
        "                val_epoch_losses += (len(val_batch_y)*val_loss.item())\n",
        "\n",
        "                correctly_labelled += (val_batch_y_preds.argmax(dim=1) == val_batch_y).sum().item()\n",
        "\n",
        "            val_epoch_loss = val_epoch_losses/len(val_loader.dataset)\n",
        "            val_losses.append(val_epoch_loss)\n",
        "        scheduler.step()\n",
        "        print(f'Epoch: {epoch_num+1}/{epochs}, learning_rate={scheduler.get_last_lr()} train_loss={epoch_loss:.2f}, val_loss={val_epoch_loss:.2f}. labelled {correctly_labelled}/{len(val_loader.dataset)} correctly ({correctly_labelled/len(val_loader.dataset)*100:.2f}% accuracy)')\n",
        "    print('Training Done')\n",
        "    return train_losses, val_losses\n"
      ],
      "metadata": {
        "id": "Ls7HkkJ0ScMX"
      },
      "execution_count": 19,
      "outputs": []
    },
    {
      "cell_type": "code",
      "source": [
        "train_losses = []\n",
        "val_losses = []\n",
        "\n",
        "cycle_train_losses, cycle_val_losses = train(5)\n",
        "\n",
        "train_losses += cycle_train_losses\n",
        "val_losses += cycle_val_losses"
      ],
      "metadata": {
        "colab": {
          "base_uri": "https://localhost:8080/"
        },
        "id": "w5iBatJku3l3",
        "outputId": "247c8059-753a-47d5-f1df-1519ada54245"
      },
      "execution_count": 25,
      "outputs": [
        {
          "output_type": "stream",
          "name": "stdout",
          "text": [
            "Epoch: 1/5, learning_rate=[0.0005688000922764595] train_loss=0.62, val_loss=0.61. labelled 7951/10000 correctly (79.51% accuracy)\n",
            "Epoch: 2/5, learning_rate=[0.0005403600876626365] train_loss=0.60, val_loss=0.65. labelled 7771/10000 correctly (77.71% accuracy)\n",
            "Epoch: 3/5, learning_rate=[0.0005133420832795047] train_loss=0.58, val_loss=0.62. labelled 7867/10000 correctly (78.67% accuracy)\n",
            "Epoch: 4/5, learning_rate=[0.00048767497911552944] train_loss=0.58, val_loss=0.63. labelled 7835/10000 correctly (78.35% accuracy)\n",
            "Epoch: 5/5, learning_rate=[0.00046329123015975297] train_loss=0.55, val_loss=0.57. labelled 8095/10000 correctly (80.95% accuracy)\n",
            "Training Done\n"
          ]
        }
      ]
    },
    {
      "cell_type": "code",
      "source": [
        "cycle_train_losses, cycle_val_losses = train(5)\n",
        "\n",
        "train_losses += cycle_train_losses\n",
        "val_losses += cycle_val_losses"
      ],
      "metadata": {
        "colab": {
          "base_uri": "https://localhost:8080/"
        },
        "id": "xdlyqhS91u98",
        "outputId": "bb5ed84d-8c0c-4c5a-bb84-5c193eec27b0"
      },
      "execution_count": 26,
      "outputs": [
        {
          "output_type": "stream",
          "name": "stdout",
          "text": [
            "Epoch: 1/5, learning_rate=[0.0004401266686517653] train_loss=0.54, val_loss=0.58. labelled 8077/10000 correctly (80.77% accuracy)\n",
            "Epoch: 2/5, learning_rate=[0.00041812033521917703] train_loss=0.53, val_loss=0.57. labelled 8085/10000 correctly (80.85% accuracy)\n",
            "Epoch: 3/5, learning_rate=[0.00039721431845821814] train_loss=0.52, val_loss=0.51. labelled 8243/10000 correctly (82.43% accuracy)\n",
            "Epoch: 4/5, learning_rate=[0.0003773536025353072] train_loss=0.50, val_loss=0.56. labelled 8048/10000 correctly (80.48% accuracy)\n",
            "Epoch: 5/5, learning_rate=[0.0003584859224085418] train_loss=0.49, val_loss=0.53. labelled 8197/10000 correctly (81.97% accuracy)\n",
            "Training Done\n"
          ]
        }
      ]
    },
    {
      "cell_type": "code",
      "source": [
        "plt.plot(train_losses, label='train loss')\n",
        "plt.plot(val_losses, label='val loss')\n",
        "plt.xlabel('Epoch')\n",
        "plt.ylabel('Loss (Cross Entropy)')\n",
        "plt.legend()\n",
        "plt.show()"
      ],
      "metadata": {
        "colab": {
          "base_uri": "https://localhost:8080/",
          "height": 449
        },
        "id": "LIGxOJ-WVIhr",
        "outputId": "f2084fd3-0e12-4739-8251-4adaad07b822"
      },
      "execution_count": 27,
      "outputs": [
        {
          "output_type": "display_data",
          "data": {
            "text/plain": [
              "<Figure size 640x480 with 1 Axes>"
            ],
            "image/png": "[encoded data removed]"
          },
          "metadata": {}
        }
      ]
    },
    {
      "cell_type": "code",
      "source": [
        "model.eval()\n",
        "correctly_labelled = 0\n",
        "with torch.no_grad():\n",
        "    val_epoch_losses = 0\n",
        "    for test_batch_x, test_batch_y in test_loader:\n",
        "        test_batch_x = test_batch_x.to(device)\n",
        "        test_batch_y = test_batch_y.to(device)\n",
        "\n",
        "        test_batch_y_preds = model(test_batch_x)\n",
        "        test_loss = criterion(test_batch_y_preds, test_batch_y)\n",
        "\n",
        "        correctly_labelled += (test_batch_y_preds.argmax(dim=1) == test_batch_y).sum().item()\n",
        "\n",
        "    test_epoch_loss = val_epoch_losses/len(test_loader.dataset)\n",
        "    print(f'Labelled {correctly_labelled}/{len(test_loader.dataset)} correctly ({correctly_labelled/len(test_loader.dataset)*100}% accuracy)')\n"
      ],
      "metadata": {
        "colab": {
          "base_uri": "https://localhost:8080/"
        },
        "id": "BT-KrcuPVLwB",
        "outputId": "2e562e3e-487c-4027-a26d-8421f71d0941"
      },
      "execution_count": 28,
      "outputs": [
        {
          "output_type": "stream",
          "name": "stdout",
          "text": [
            "Labelled 8283/10000 correctly (82.83% accuracy)\n"
          ]
        }
      ]
    },
    {
      "cell_type": "code",
      "source": [
        "print(model)"
      ],
      "metadata": {
        "colab": {
          "base_uri": "https://localhost:8080/"
        },
        "id": "rIJOR4Y13uDT",
        "outputId": "57ce36b5-30e5-4842-d5fb-78be5eaeb854"
      },
      "execution_count": 24,
      "outputs": [
        {
          "output_type": "stream",
          "name": "stdout",
          "text": [
            "ResNet9(\n",
            "  (conv1): Sequential(\n",
            "    (0): Conv2d(3, 64, kernel_size=(3, 3), stride=(1, 1), padding=(1, 1))\n",
            "    (1): BatchNorm2d(64, eps=1e-05, momentum=0.1, affine=True, track_running_stats=True)\n",
            "    (2): ReLU(inplace=True)\n",
            "  )\n",
            "  (conv2): Sequential(\n",
            "    (0): Conv2d(64, 128, kernel_size=(3, 3), stride=(1, 1), padding=(1, 1))\n",
            "    (1): BatchNorm2d(128, eps=1e-05, momentum=0.1, affine=True, track_running_stats=True)\n",
            "    (2): ReLU(inplace=True)\n",
            "    (3): MaxPool2d(kernel_size=2, stride=2, padding=0, dilation=1, ceil_mode=False)\n",
            "  )\n",
            "  (res1): Sequential(\n",
            "    (0): Sequential(\n",
            "      (0): Conv2d(128, 128, kernel_size=(3, 3), stride=(1, 1), padding=(1, 1))\n",
            "      (1): BatchNorm2d(128, eps=1e-05, momentum=0.1, affine=True, track_running_stats=True)\n",
            "      (2): ReLU(inplace=True)\n",
            "    )\n",
            "    (1): Sequential(\n",
            "      (0): Conv2d(128, 128, kernel_size=(3, 3), stride=(1, 1), padding=(1, 1))\n",
            "      (1): BatchNorm2d(128, eps=1e-05, momentum=0.1, affine=True, track_running_stats=True)\n",
            "    )\n",
            "  )\n",
            "  (res2): Sequential(\n",
            "    (0): Sequential(\n",
            "      (0): Conv2d(128, 256, kernel_size=(3, 3), stride=(1, 1), padding=(1, 1))\n",
            "      (1): BatchNorm2d(256, eps=1e-05, momentum=0.1, affine=True, track_running_stats=True)\n",
            "      (2): ReLU(inplace=True)\n",
            "    )\n",
            "    (1): Sequential(\n",
            "      (0): Conv2d(256, 512, kernel_size=(3, 3), stride=(1, 1), padding=(1, 1))\n",
            "      (1): BatchNorm2d(512, eps=1e-05, momentum=0.1, affine=True, track_running_stats=True)\n",
            "    )\n",
            "  )\n",
            "  (upsample): Conv2d(128, 512, kernel_size=(1, 1), stride=(1, 1))\n",
            "  (res3): Sequential(\n",
            "    (0): Sequential(\n",
            "      (0): Conv2d(512, 512, kernel_size=(3, 3), stride=(1, 1), padding=(1, 1))\n",
            "      (1): BatchNorm2d(512, eps=1e-05, momentum=0.1, affine=True, track_running_stats=True)\n",
            "      (2): ReLU(inplace=True)\n",
            "    )\n",
            "    (1): Sequential(\n",
            "      (0): Conv2d(512, 512, kernel_size=(3, 3), stride=(1, 1), padding=(1, 1))\n",
            "      (1): BatchNorm2d(512, eps=1e-05, momentum=0.1, affine=True, track_running_stats=True)\n",
            "    )\n",
            "  )\n",
            "  (fc): Sequential(\n",
            "    (0): Flatten(start_dim=1, end_dim=-1)\n",
            "    (1): Linear(in_features=2048, out_features=512, bias=True)\n",
            "    (2): ReLU()\n",
            "    (3): Linear(in_features=512, out_features=10, bias=True)\n",
            "  )\n",
            "  (relu): ReLU()\n",
            "  (maxpool): MaxPool2d(kernel_size=2, stride=2, padding=0, dilation=1, ceil_mode=False)\n",
            ")\n"
          ]
        }
      ]
    }
  ]
}