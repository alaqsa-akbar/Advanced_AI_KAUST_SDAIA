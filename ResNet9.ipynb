{
  "nbformat": 4,
  "nbformat_minor": 0,
  "metadata": {
    "colab": {
      "provenance": [],
      "gpuType": "T4"
    },
    "kernelspec": {
      "name": "python3",
      "display_name": "Python 3"
    },
    "language_info": {
      "name": "python"
    },
    "accelerator": "GPU"
  },
  "cells": [
    {
      "cell_type": "code",
      "execution_count": null,
      "metadata": {
        "id": "biXWg9VaNYF1"
      },
      "outputs": [],
      "source": [
        "import torch\n",
        "import matplotlib.pyplot as plt\n",
        "import torch.nn as nn\n",
        "from torchvision.datasets import CIFAR10, MNIST\n",
        "import torch.optim as optim\n",
        "from torch.utils.data import DataLoader\n",
        "import torchvision.transforms as tt\n",
        "import torchvision.models as models\n",
        "import numpy as np"
      ]
    },
    {
      "cell_type": "code",
      "source": [
        "train_set = CIFAR10(root='/', download=True, train=True)"
      ],
      "metadata": {
        "colab": {
          "base_uri": "https://localhost:8080/"
        },
        "id": "PLaQENz9NwCg",
        "outputId": "13f56a20-4899-4ea9-aa01-daeea8046745"
      },
      "execution_count": null,
      "outputs": [
        {
          "output_type": "stream",
          "name": "stdout",
          "text": [
            "Downloading https://www.cs.toronto.edu/~kriz/cifar-10-python.tar.gz to /cifar-10-python.tar.gz\n"
          ]
        },
        {
          "output_type": "stream",
          "name": "stderr",
          "text": [
            "100%|██████████| 170498071/170498071 [00:02<00:00, 80444991.69it/s]\n"
          ]
        },
        {
          "output_type": "stream",
          "name": "stdout",
          "text": [
            "Extracting /cifar-10-python.tar.gz to /\n"
          ]
        }
      ]
    },
    {
      "cell_type": "code",
      "source": [
        "# Stick all the images together to form a 1600000 X 32 X 3 array\n",
        "x = np.concatenate([np.asarray(train_set[i][0]) for i in range(len(train_set))])\n",
        "\n",
        "# calculate the mean and std along the (0, 1) axes\n",
        "mean = np.mean(x, axis=(0, 1))/255\n",
        "std = np.std(x, axis=(0, 1))/255\n",
        "# the the mean and std\n",
        "mean=mean.tolist()\n",
        "std=std.tolist()"
      ],
      "metadata": {
        "id": "kvnTHCrvi9wZ"
      },
      "execution_count": null,
      "outputs": []
    },
    {
      "cell_type": "code",
      "source": [
        "transform_train = tt.Compose([tt.RandomCrop(32, padding=4,padding_mode='reflect'),\n",
        "                         tt.RandomHorizontalFlip(),\n",
        "                         tt.ToTensor(),\n",
        "                         tt.Normalize(mean,std,inplace=True)])\n",
        "transform_test = tt.Compose([tt.ToTensor(), tt.Normalize(mean,std)])"
      ],
      "metadata": {
        "id": "oojLKwoFjMEL"
      },
      "execution_count": null,
      "outputs": []
    },
    {
      "cell_type": "code",
      "source": [
        "train_set = CIFAR10(root='/', download=True, train=True, transform=transform_train)\n",
        "train_set, val_set = torch.utils.data.random_split(train_set, [0.8, 0.2])\n",
        "test_set = CIFAR10(root='/', download=True, train=False, transform=transform_test)"
      ],
      "metadata": {
        "colab": {
          "base_uri": "https://localhost:8080/"
        },
        "id": "9XzvH8SfjdSN",
        "outputId": "ef98d637-afe9-4170-f422-e4dc47f76de2"
      },
      "execution_count": null,
      "outputs": [
        {
          "output_type": "stream",
          "name": "stdout",
          "text": [
            "Files already downloaded and verified\n",
            "Files already downloaded and verified\n"
          ]
        }
      ]
    },
    {
      "cell_type": "code",
      "source": [
        "train_loader = DataLoader(train_set, batch_size=64, shuffle=True)\n",
        "val_loader = DataLoader(val_set, batch_size=64, shuffle=True)\n",
        "test_loader = DataLoader(test_set, batch_size=64, shuffle=True)"
      ],
      "metadata": {
        "id": "kBMW87qPOU9h"
      },
      "execution_count": null,
      "outputs": []
    },
    {
      "cell_type": "code",
      "source": [
        "# ResNet9\n",
        "def conv_block(in_channels, out_channels, pool=False):\n",
        "    layers = [\n",
        "        nn.Conv2d(in_channels, out_channels, kernel_size=3, padding=1),\n",
        "        nn.BatchNorm2d(out_channels),\n",
        "        nn.ReLU(inplace=True)\n",
        "    ]\n",
        "    if pool: layers.append(nn.MaxPool2d(2))\n",
        "    return nn.Sequential(*layers)\n",
        "\n",
        "class Resnet9(nn.Module):\n",
        "    def __init__(self):\n",
        "        super().__init__()\n",
        "        self.conv1 = conv_block(3, 64)\n",
        "        self.conv2 = conv_block(64, 128, pool=True)\n",
        "        self.res1 = nn.Sequential(conv_block(128, 128), conv_block(128, 128))\n",
        "\n",
        "        self.conv3 = conv_block(128, 256, pool=True)\n",
        "        self.conv4 = conv_block(256, 256, pool=True)\n",
        "        self.res2 = nn.Sequential(conv_block(256, 256), conv_block(256, 256))\n",
        "\n",
        "        self.fc = nn.Sequential(\n",
        "            nn.MaxPool2d(2),\n",
        "            nn.Flatten(),\n",
        "            nn.Linear(1024, 128),\n",
        "            nn.ReLU(),\n",
        "            nn.Linear(128, 10)\n",
        "        )\n",
        "\n",
        "    def forward(self, x):\n",
        "        x = self.conv1(x)\n",
        "        x = self.conv2(x)\n",
        "        x = self.res1(x) + x\n",
        "        x = self.conv3(x)\n",
        "        x = self.conv4(x)\n",
        "        x = self.res2(x) + x\n",
        "        x = self.fc(x)\n",
        "        return x\n"
      ],
      "metadata": {
        "id": "aczFBX2cPJox"
      },
      "execution_count": null,
      "outputs": []
    },
    {
      "cell_type": "code",
      "source": [
        "device=torch.device('cuda' if torch.cuda.is_available() else 'cpu')\n",
        "model = Resnet9().to(device)\n",
        "\n",
        "lr=1e-3\n",
        "weight_decay=1e-2\n",
        "criterion=nn.CrossEntropyLoss()\n",
        "\n",
        "optimizer=optim.Adam(model.parameters(), lr=lr, weight_decay=weight_decay)\n",
        "scheduler=optim.lr_scheduler.ExponentialLR(optimizer, gamma=0.95)\n"
      ],
      "metadata": {
        "id": "dR3EL0PjRW3i"
      },
      "execution_count": null,
      "outputs": []
    },
    {
      "cell_type": "code",
      "source": [
        "def train(epochs):\n",
        "    val_losses = []\n",
        "    train_losses = []\n",
        "\n",
        "    for epoch_num in range(epochs):\n",
        "        model.train()\n",
        "\n",
        "        epoch_losses = 0\n",
        "\n",
        "        for batch_x, batch_y in train_loader:\n",
        "            batch_x = batch_x.to(device)\n",
        "            batch_y = batch_y.to(device)\n",
        "\n",
        "            batch_y_preds = model(batch_x)\n",
        "\n",
        "            loss = criterion(batch_y_preds, batch_y)\n",
        "\n",
        "            optimizer.zero_grad()\n",
        "            loss.backward()\n",
        "            optimizer.step()\n",
        "\n",
        "            epoch_losses += (len(batch_y)*loss.item())\n",
        "\n",
        "        epoch_loss = epoch_losses/len(train_loader.dataset)\n",
        "        train_losses.append(epoch_loss)\n",
        "\n",
        "        model.eval()\n",
        "        correctly_labelled = 0\n",
        "        with torch.no_grad():\n",
        "            val_epoch_losses = 0\n",
        "            for val_batch_x, val_batch_y in val_loader:\n",
        "                val_batch_x = val_batch_x.to(device)\n",
        "                val_batch_y = val_batch_y.to(device)\n",
        "\n",
        "                val_batch_y_preds = model(val_batch_x)\n",
        "                val_loss = criterion(val_batch_y_preds, val_batch_y)\n",
        "                val_epoch_losses += (len(val_batch_y)*val_loss.item())\n",
        "\n",
        "                correctly_labelled += (val_batch_y_preds.argmax(dim=1) == val_batch_y).sum().item()\n",
        "\n",
        "            val_epoch_loss = val_epoch_losses/len(val_loader.dataset)\n",
        "            val_losses.append(val_epoch_loss)\n",
        "        scheduler.step()\n",
        "        print(f'Epoch: {epoch_num+1}/{epochs}, learning_rate={scheduler.get_last_lr()} train_loss={epoch_loss:.2f}, val_loss={val_epoch_loss:.2f}. labelled {correctly_labelled}/{len(val_loader.dataset)} correctly ({correctly_labelled/len(val_loader.dataset)*100:.2f}% accuracy)')\n",
        "    print('Training Done')\n",
        "    return train_losses, val_losses\n"
      ],
      "metadata": {
        "id": "Ls7HkkJ0ScMX"
      },
      "execution_count": null,
      "outputs": []
    },
    {
      "cell_type": "code",
      "source": [
        "train_losses = []\n",
        "val_losses = []\n",
        "\n",
        "cycle_train_losses, cycle_val_losses = train(20)\n",
        "\n",
        "train_losses += cycle_train_losses\n",
        "val_losses += cycle_val_losses"
      ],
      "metadata": {
        "colab": {
          "base_uri": "https://localhost:8080/"
        },
        "id": "w5iBatJku3l3",
        "outputId": "c12a6aa8-a497-4dce-afcb-9a61f1769754"
      },
      "execution_count": null,
      "outputs": [
        {
          "output_type": "stream",
          "name": "stdout",
          "text": [
            "Epoch: 1/20, learning_rate=[0.00095] train_loss=1.44, val_loss=1.77. labelled 3797/10000 correctly (37.97% accuracy)\n",
            "Epoch: 2/20, learning_rate=[0.0009025] train_loss=1.18, val_loss=1.37. labelled 4862/10000 correctly (48.62% accuracy)\n",
            "Epoch: 3/20, learning_rate=[0.000857375] train_loss=1.04, val_loss=1.21. labelled 5671/10000 correctly (56.71% accuracy)\n",
            "Epoch: 4/20, learning_rate=[0.0008145062499999999] train_loss=0.93, val_loss=1.14. labelled 6085/10000 correctly (60.85% accuracy)\n",
            "Epoch: 5/20, learning_rate=[0.0007737809374999998] train_loss=0.84, val_loss=0.87. labelled 6946/10000 correctly (69.46% accuracy)\n",
            "Epoch: 6/20, learning_rate=[0.0007350918906249997] train_loss=0.78, val_loss=0.88. labelled 6874/10000 correctly (68.74% accuracy)\n",
            "Epoch: 7/20, learning_rate=[0.0006983372960937497] train_loss=0.74, val_loss=1.32. labelled 5738/10000 correctly (57.38% accuracy)\n",
            "Epoch: 8/20, learning_rate=[0.0006634204312890621] train_loss=0.70, val_loss=0.77. labelled 7322/10000 correctly (73.22% accuracy)\n",
            "Epoch: 9/20, learning_rate=[0.000630249409724609] train_loss=0.67, val_loss=0.81. labelled 7145/10000 correctly (71.45% accuracy)\n",
            "Epoch: 10/20, learning_rate=[0.0005987369392383785] train_loss=0.65, val_loss=0.76. labelled 7330/10000 correctly (73.30% accuracy)\n",
            "Epoch: 11/20, learning_rate=[0.0005688000922764595] train_loss=0.63, val_loss=0.64. labelled 7838/10000 correctly (78.38% accuracy)\n",
            "Epoch: 12/20, learning_rate=[0.0005403600876626365] train_loss=0.61, val_loss=0.70. labelled 7628/10000 correctly (76.28% accuracy)\n",
            "Epoch: 13/20, learning_rate=[0.0005133420832795047] train_loss=0.58, val_loss=0.69. labelled 7599/10000 correctly (75.99% accuracy)\n",
            "Epoch: 14/20, learning_rate=[0.00048767497911552944] train_loss=0.57, val_loss=0.62. labelled 7916/10000 correctly (79.16% accuracy)\n",
            "Epoch: 15/20, learning_rate=[0.00046329123015975297] train_loss=0.56, val_loss=0.69. labelled 7618/10000 correctly (76.18% accuracy)\n",
            "Epoch: 16/20, learning_rate=[0.0004401266686517653] train_loss=0.54, val_loss=0.60. labelled 7945/10000 correctly (79.45% accuracy)\n",
            "Epoch: 17/20, learning_rate=[0.00041812033521917703] train_loss=0.54, val_loss=0.61. labelled 7947/10000 correctly (79.47% accuracy)\n",
            "Epoch: 18/20, learning_rate=[0.00039721431845821814] train_loss=0.51, val_loss=0.62. labelled 7847/10000 correctly (78.47% accuracy)\n",
            "Epoch: 19/20, learning_rate=[0.0003773536025353072] train_loss=0.51, val_loss=0.56. labelled 8086/10000 correctly (80.86% accuracy)\n",
            "Epoch: 20/20, learning_rate=[0.0003584859224085418] train_loss=0.49, val_loss=0.58. labelled 8005/10000 correctly (80.05% accuracy)\n",
            "Training Done\n"
          ]
        }
      ]
    },
    {
      "cell_type": "code",
      "source": [
        "cycle_train_losses, cycle_val_losses = train(10)\n",
        "\n",
        "train_losses += cycle_train_losses\n",
        "val_losses += cycle_val_losses"
      ],
      "metadata": {
        "colab": {
          "base_uri": "https://localhost:8080/"
        },
        "id": "xdlyqhS91u98",
        "outputId": "336e176c-5c3f-4545-8cbe-1369d084b92b"
      },
      "execution_count": null,
      "outputs": [
        {
          "output_type": "stream",
          "name": "stdout",
          "text": [
            "Epoch: 1/10, learning_rate=[0.0003405616262881147] train_loss=0.49, val_loss=0.53. labelled 8183/10000 correctly (81.83% accuracy)\n",
            "Epoch: 2/10, learning_rate=[0.00032353354497370894] train_loss=0.48, val_loss=0.54. labelled 8204/10000 correctly (82.04% accuracy)\n",
            "Epoch: 3/10, learning_rate=[0.00030735686772502346] train_loss=0.47, val_loss=0.54. labelled 8171/10000 correctly (81.71% accuracy)\n",
            "Epoch: 4/10, learning_rate=[0.00029198902433877225] train_loss=0.46, val_loss=0.52. labelled 8250/10000 correctly (82.50% accuracy)\n",
            "Epoch: 5/10, learning_rate=[0.00027738957312183364] train_loss=0.45, val_loss=0.53. labelled 8215/10000 correctly (82.15% accuracy)\n",
            "Epoch: 6/10, learning_rate=[0.0002635200944657419] train_loss=0.44, val_loss=0.60. labelled 7988/10000 correctly (79.88% accuracy)\n",
            "Epoch: 7/10, learning_rate=[0.0002503440897424548] train_loss=0.43, val_loss=0.52. labelled 8248/10000 correctly (82.48% accuracy)\n",
            "Epoch: 8/10, learning_rate=[0.00023782688525533205] train_loss=0.42, val_loss=0.51. labelled 8278/10000 correctly (82.78% accuracy)\n",
            "Epoch: 9/10, learning_rate=[0.00022593554099256544] train_loss=0.41, val_loss=0.51. labelled 8315/10000 correctly (83.15% accuracy)\n",
            "Epoch: 10/10, learning_rate=[0.00021463876394293716] train_loss=0.41, val_loss=0.46. labelled 8448/10000 correctly (84.48% accuracy)\n",
            "Training Done\n"
          ]
        }
      ]
    },
    {
      "cell_type": "code",
      "source": [
        "plt.plot(train_losses, label='train loss')\n",
        "plt.plot(val_losses, label='val loss')\n",
        "plt.xlabel('Epoch')\n",
        "plt.ylabel('Loss (Cross Entropy)')\n",
        "plt.legend()\n",
        "plt.show()"
      ],
      "metadata": {
        "colab": {
          "base_uri": "https://localhost:8080/",
          "height": 449
        },
        "id": "LIGxOJ-WVIhr",
        "outputId": "e055e98a-0649-4a19-f8c6-29a312fe4241"
      },
      "execution_count": null,
      "outputs": [
        {
          "output_type": "display_data",
          "data": {
            "text/plain": [
              "<Figure size 640x480 with 1 Axes>"
            ],
            "image/png": "[encoded data removed]"
          },
          "metadata": {}
        }
      ]
    },
    {
      "cell_type": "code",
      "source": [
        "model.eval()\n",
        "correctly_labelled = 0\n",
        "with torch.no_grad():\n",
        "    val_epoch_losses = 0\n",
        "    for test_batch_x, test_batch_y in test_loader:\n",
        "        test_batch_x = test_batch_x.to(device)\n",
        "        test_batch_y = test_batch_y.to(device)\n",
        "\n",
        "        test_batch_y_preds = model(test_batch_x)\n",
        "        test_loss = criterion(test_batch_y_preds, test_batch_y)\n",
        "\n",
        "        correctly_labelled += (test_batch_y_preds.argmax(dim=1) == test_batch_y).sum().item()\n",
        "\n",
        "    test_epoch_loss = val_epoch_losses/len(test_loader.dataset)\n",
        "    print(f'Labelled {correctly_labelled}/{len(test_loader.dataset)} correctly ({correctly_labelled/len(test_loader.dataset)*100}% accuracy)')\n"
      ],
      "metadata": {
        "colab": {
          "base_uri": "https://localhost:8080/"
        },
        "id": "BT-KrcuPVLwB",
        "outputId": "64c8b4b9-ca19-4a8c-fc64-a99f22d8c7cc"
      },
      "execution_count": null,
      "outputs": [
        {
          "output_type": "stream",
          "name": "stdout",
          "text": [
            "Labelled 8577/10000 correctly (85.77% accuracy)\n"
          ]
        }
      ]
    },
    {
      "cell_type": "code",
      "source": [
        "print(model)"
      ],
      "metadata": {
        "colab": {
          "base_uri": "https://localhost:8080/"
        },
        "id": "rIJOR4Y13uDT",
        "outputId": "f6eb3dd9-eada-446f-ba41-4d01a5b3194b"
      },
      "execution_count": null,
      "outputs": [
        {
          "output_type": "stream",
          "name": "stdout",
          "text": [
            "Resnet9(\n",
            "  (conv1): Sequential(\n",
            "    (0): Conv2d(3, 64, kernel_size=(3, 3), stride=(1, 1), padding=(1, 1))\n",
            "    (1): BatchNorm2d(64, eps=1e-05, momentum=0.1, affine=True, track_running_stats=True)\n",
            "    (2): ReLU(inplace=True)\n",
            "  )\n",
            "  (conv2): Sequential(\n",
            "    (0): Conv2d(64, 128, kernel_size=(3, 3), stride=(1, 1), padding=(1, 1))\n",
            "    (1): BatchNorm2d(128, eps=1e-05, momentum=0.1, affine=True, track_running_stats=True)\n",
            "    (2): ReLU(inplace=True)\n",
            "    (3): MaxPool2d(kernel_size=2, stride=2, padding=0, dilation=1, ceil_mode=False)\n",
            "  )\n",
            "  (res1): Sequential(\n",
            "    (0): Sequential(\n",
            "      (0): Conv2d(128, 128, kernel_size=(3, 3), stride=(1, 1), padding=(1, 1))\n",
            "      (1): BatchNorm2d(128, eps=1e-05, momentum=0.1, affine=True, track_running_stats=True)\n",
            "      (2): ReLU(inplace=True)\n",
            "    )\n",
            "    (1): Sequential(\n",
            "      (0): Conv2d(128, 128, kernel_size=(3, 3), stride=(1, 1), padding=(1, 1))\n",
            "      (1): BatchNorm2d(128, eps=1e-05, momentum=0.1, affine=True, track_running_stats=True)\n",
            "      (2): ReLU(inplace=True)\n",
            "    )\n",
            "  )\n",
            "  (conv3): Sequential(\n",
            "    (0): Conv2d(128, 256, kernel_size=(3, 3), stride=(1, 1), padding=(1, 1))\n",
            "    (1): BatchNorm2d(256, eps=1e-05, momentum=0.1, affine=True, track_running_stats=True)\n",
            "    (2): ReLU(inplace=True)\n",
            "    (3): MaxPool2d(kernel_size=2, stride=2, padding=0, dilation=1, ceil_mode=False)\n",
            "  )\n",
            "  (conv4): Sequential(\n",
            "    (0): Conv2d(256, 256, kernel_size=(3, 3), stride=(1, 1), padding=(1, 1))\n",
            "    (1): BatchNorm2d(256, eps=1e-05, momentum=0.1, affine=True, track_running_stats=True)\n",
            "    (2): ReLU(inplace=True)\n",
            "    (3): MaxPool2d(kernel_size=2, stride=2, padding=0, dilation=1, ceil_mode=False)\n",
            "  )\n",
            "  (res2): Sequential(\n",
            "    (0): Sequential(\n",
            "      (0): Conv2d(256, 256, kernel_size=(3, 3), stride=(1, 1), padding=(1, 1))\n",
            "      (1): BatchNorm2d(256, eps=1e-05, momentum=0.1, affine=True, track_running_stats=True)\n",
            "      (2): ReLU(inplace=True)\n",
            "    )\n",
            "    (1): Sequential(\n",
            "      (0): Conv2d(256, 256, kernel_size=(3, 3), stride=(1, 1), padding=(1, 1))\n",
            "      (1): BatchNorm2d(256, eps=1e-05, momentum=0.1, affine=True, track_running_stats=True)\n",
            "      (2): ReLU(inplace=True)\n",
            "    )\n",
            "  )\n",
            "  (fc): Sequential(\n",
            "    (0): MaxPool2d(kernel_size=2, stride=2, padding=0, dilation=1, ceil_mode=False)\n",
            "    (1): Flatten(start_dim=1, end_dim=-1)\n",
            "    (2): Linear(in_features=1024, out_features=128, bias=True)\n",
            "    (3): ReLU()\n",
            "    (4): Linear(in_features=128, out_features=10, bias=True)\n",
            "  )\n",
            ")\n"
          ]
        }
      ]
    }
  ]
}