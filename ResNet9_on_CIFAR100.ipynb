{
  "nbformat": 4,
  "nbformat_minor": 0,
  "metadata": {
    "colab": {
      "provenance": [],
      "gpuType": "T4"
    },
    "kernelspec": {
      "name": "python3",
      "display_name": "Python 3"
    },
    "language_info": {
      "name": "python"
    },
    "accelerator": "GPU"
  },
  "cells": [
    {
      "cell_type": "code",
      "execution_count": 13,
      "metadata": {
        "id": "biXWg9VaNYF1"
      },
      "outputs": [],
      "source": [
        "import torch\n",
        "import matplotlib.pyplot as plt\n",
        "import torch.nn as nn\n",
        "from torchvision.datasets import CIFAR100\n",
        "import torch.optim as optim\n",
        "from torch.utils.data import DataLoader\n",
        "import torchvision.transforms as tt\n",
        "import torchvision.models as models\n",
        "import numpy as np"
      ]
    },
    {
      "cell_type": "code",
      "source": [
        "train_set = CIFAR100(root='/', download=True, train=True)"
      ],
      "metadata": {
        "colab": {
          "base_uri": "https://localhost:8080/"
        },
        "id": "PLaQENz9NwCg",
        "outputId": "f169bd48-8851-47a4-d907-001afafc05e3"
      },
      "execution_count": 14,
      "outputs": [
        {
          "output_type": "stream",
          "name": "stdout",
          "text": [
            "Files already downloaded and verified\n"
          ]
        }
      ]
    },
    {
      "cell_type": "code",
      "source": [
        "# Stick all the images together to form a 1600000 X 32 X 3 array\n",
        "x = np.concatenate([np.asarray(train_set[i][0]) for i in range(len(train_set))])\n",
        "\n",
        "# calculate the mean and std along the (0, 1) axes\n",
        "mean = np.mean(x, axis=(0, 1))/255\n",
        "std = np.std(x, axis=(0, 1))/255\n",
        "# the the mean and std\n",
        "mean=mean.tolist()\n",
        "std=std.tolist()"
      ],
      "metadata": {
        "id": "kvnTHCrvi9wZ"
      },
      "execution_count": 15,
      "outputs": []
    },
    {
      "cell_type": "code",
      "source": [
        "transform_train = tt.Compose([tt.RandomCrop(32, padding=4,padding_mode='reflect'),\n",
        "                         tt.RandomHorizontalFlip(),\n",
        "                         tt.ToTensor(),\n",
        "                         tt.Normalize(mean,std,inplace=True)])\n",
        "transform_test = tt.Compose([tt.ToTensor(), tt.Normalize(mean,std)])"
      ],
      "metadata": {
        "id": "oojLKwoFjMEL"
      },
      "execution_count": 16,
      "outputs": []
    },
    {
      "cell_type": "code",
      "source": [
        "train_set = CIFAR100(root='/', download=True, train=True, transform=transform_train)\n",
        "train_set, val_set = torch.utils.data.random_split(train_set, [0.8, 0.2])\n",
        "test_set = CIFAR100(root='/', download=True, train=False, transform=transform_test)"
      ],
      "metadata": {
        "colab": {
          "base_uri": "https://localhost:8080/"
        },
        "id": "9XzvH8SfjdSN",
        "outputId": "66a8b464-be93-434a-86c5-a9fc48597eb1"
      },
      "execution_count": 17,
      "outputs": [
        {
          "output_type": "stream",
          "name": "stdout",
          "text": [
            "Files already downloaded and verified\n",
            "Files already downloaded and verified\n"
          ]
        }
      ]
    },
    {
      "cell_type": "code",
      "source": [
        "train_loader = DataLoader(train_set, batch_size=256, shuffle=True)\n",
        "val_loader = DataLoader(val_set, batch_size=256, shuffle=True)\n",
        "test_loader = DataLoader(test_set, batch_size=256, shuffle=True)"
      ],
      "metadata": {
        "id": "kBMW87qPOU9h"
      },
      "execution_count": 18,
      "outputs": []
    },
    {
      "cell_type": "code",
      "source": [
        "# ResNet9\n",
        "def conv_block(in_channels, out_channels, pool=False):\n",
        "    layers = [\n",
        "        nn.Conv2d(in_channels, out_channels, kernel_size=3, padding=1),\n",
        "        nn.BatchNorm2d(out_channels),\n",
        "        nn.ReLU(inplace=True)\n",
        "    ]\n",
        "    if pool: layers.append(nn.MaxPool2d(2))\n",
        "    return nn.Sequential(*layers)\n",
        "\n",
        "class Resnet9(nn.Module):\n",
        "    def __init__(self):\n",
        "        super().__init__()\n",
        "        self.conv1 = conv_block(3, 64)\n",
        "        self.conv2 = conv_block(64, 128, pool=True)\n",
        "        self.res1 = nn.Sequential(conv_block(128, 128), conv_block(128, 128))\n",
        "\n",
        "        self.conv3 = conv_block(128, 256, pool=True)\n",
        "        self.conv4 = conv_block(256, 256, pool=True)\n",
        "        self.res2 = nn.Sequential(conv_block(256, 256), conv_block(256, 256))\n",
        "\n",
        "        self.fc = nn.Sequential(\n",
        "            nn.MaxPool2d(2),\n",
        "            nn.Flatten(),\n",
        "            nn.Linear(1024, 512),\n",
        "            nn.ReLU(),\n",
        "            nn.Linear(512, 100)\n",
        "        )\n",
        "\n",
        "    def forward(self, x):\n",
        "        x = self.conv1(x)\n",
        "        x = self.conv2(x)\n",
        "        x = self.res1(x) + x\n",
        "        x = self.conv3(x)\n",
        "        x = self.conv4(x)\n",
        "        x = self.res2(x) + x\n",
        "        x = self.fc(x)\n",
        "        return x\n"
      ],
      "metadata": {
        "id": "aczFBX2cPJox"
      },
      "execution_count": 19,
      "outputs": []
    },
    {
      "cell_type": "code",
      "source": [
        "device=torch.device('cuda' if torch.cuda.is_available() else 'cpu')\n",
        "model = Resnet9().to(device)\n",
        "\n",
        "lr=1e-3\n",
        "weight_decay=1e-2\n",
        "criterion=nn.CrossEntropyLoss()\n",
        "\n",
        "optimizer=optim.Adam(model.parameters(), lr=lr, weight_decay=weight_decay)\n",
        "scheduler=optim.lr_scheduler.ExponentialLR(optimizer, gamma=0.95)\n"
      ],
      "metadata": {
        "id": "dR3EL0PjRW3i"
      },
      "execution_count": 20,
      "outputs": []
    },
    {
      "cell_type": "code",
      "source": [
        "def train(epochs):\n",
        "    val_losses = []\n",
        "    train_losses = []\n",
        "\n",
        "    for epoch_num in range(epochs):\n",
        "        model.train()\n",
        "\n",
        "        epoch_losses = 0\n",
        "\n",
        "        for batch_x, batch_y in train_loader:\n",
        "            batch_x = batch_x.to(device)\n",
        "            batch_y = batch_y.to(device)\n",
        "\n",
        "            batch_y_preds = model(batch_x)\n",
        "\n",
        "            loss = criterion(batch_y_preds, batch_y)\n",
        "\n",
        "            optimizer.zero_grad()\n",
        "            loss.backward()\n",
        "            optimizer.step()\n",
        "\n",
        "            epoch_losses += (len(batch_y)*loss.item())\n",
        "\n",
        "        epoch_loss = epoch_losses/len(train_loader.dataset)\n",
        "        train_losses.append(epoch_loss)\n",
        "\n",
        "        model.eval()\n",
        "        correctly_labelled = 0\n",
        "        with torch.no_grad():\n",
        "            val_epoch_losses = 0\n",
        "            for val_batch_x, val_batch_y in val_loader:\n",
        "                val_batch_x = val_batch_x.to(device)\n",
        "                val_batch_y = val_batch_y.to(device)\n",
        "\n",
        "                val_batch_y_preds = model(val_batch_x)\n",
        "                val_loss = criterion(val_batch_y_preds, val_batch_y)\n",
        "                val_epoch_losses += (len(val_batch_y)*val_loss.item())\n",
        "\n",
        "                correctly_labelled += (val_batch_y_preds.argmax(dim=1) == val_batch_y).sum().item()\n",
        "\n",
        "            val_epoch_loss = val_epoch_losses/len(val_loader.dataset)\n",
        "            val_losses.append(val_epoch_loss)\n",
        "        scheduler.step()\n",
        "        print(f'Epoch: {epoch_num+1}/{epochs}, learning_rate={scheduler.get_last_lr()} train_loss={epoch_loss:.2f}, val_loss={val_epoch_loss:.2f}. labelled {correctly_labelled}/{len(val_loader.dataset)} correctly ({correctly_labelled/len(val_loader.dataset)*100:.2f}% accuracy)')\n",
        "    print('Training Done')\n",
        "    return train_losses, val_losses\n"
      ],
      "metadata": {
        "id": "Ls7HkkJ0ScMX"
      },
      "execution_count": 21,
      "outputs": []
    },
    {
      "cell_type": "code",
      "source": [
        "train_losses = []\n",
        "val_losses = []\n",
        "\n",
        "cycle_train_losses, cycle_val_losses = train(20)\n",
        "\n",
        "train_losses += cycle_train_losses\n",
        "val_losses += cycle_val_losses"
      ],
      "metadata": {
        "colab": {
          "base_uri": "https://localhost:8080/"
        },
        "id": "w5iBatJku3l3",
        "outputId": "c1b65c32-74d6-4d87-d50f-3a35aa147365"
      },
      "execution_count": 22,
      "outputs": [
        {
          "output_type": "stream",
          "name": "stdout",
          "text": [
            "Epoch: 1/20, learning_rate=[0.00095] train_loss=3.93, val_loss=3.72. labelled 1196/10000 correctly (11.96% accuracy)\n",
            "Epoch: 2/20, learning_rate=[0.0009025] train_loss=3.24, val_loss=3.33. labelled 1863/10000 correctly (18.63% accuracy)\n",
            "Epoch: 3/20, learning_rate=[0.000857375] train_loss=2.84, val_loss=3.67. labelled 1609/10000 correctly (16.09% accuracy)\n",
            "Epoch: 4/20, learning_rate=[0.0008145062499999999] train_loss=2.62, val_loss=3.06. labelled 2436/10000 correctly (24.36% accuracy)\n",
            "Epoch: 5/20, learning_rate=[0.0007737809374999998] train_loss=2.46, val_loss=2.96. labelled 2637/10000 correctly (26.37% accuracy)\n",
            "Epoch: 6/20, learning_rate=[0.0007350918906249997] train_loss=2.34, val_loss=2.84. labelled 2778/10000 correctly (27.78% accuracy)\n",
            "Epoch: 7/20, learning_rate=[0.0006983372960937497] train_loss=2.24, val_loss=2.67. labelled 3157/10000 correctly (31.57% accuracy)\n",
            "Epoch: 8/20, learning_rate=[0.0006634204312890621] train_loss=2.16, val_loss=2.91. labelled 3056/10000 correctly (30.56% accuracy)\n",
            "Epoch: 9/20, learning_rate=[0.000630249409724609] train_loss=2.07, val_loss=2.35. labelled 3755/10000 correctly (37.55% accuracy)\n",
            "Epoch: 10/20, learning_rate=[0.0005987369392383785] train_loss=2.00, val_loss=2.20. labelled 4131/10000 correctly (41.31% accuracy)\n",
            "Epoch: 11/20, learning_rate=[0.0005688000922764595] train_loss=1.93, val_loss=2.99. labelled 2998/10000 correctly (29.98% accuracy)\n",
            "Epoch: 12/20, learning_rate=[0.0005403600876626365] train_loss=1.87, val_loss=2.17. labelled 4334/10000 correctly (43.34% accuracy)\n",
            "Epoch: 13/20, learning_rate=[0.0005133420832795047] train_loss=1.80, val_loss=2.10. labelled 4328/10000 correctly (43.28% accuracy)\n",
            "Epoch: 14/20, learning_rate=[0.00048767497911552944] train_loss=1.75, val_loss=2.25. labelled 4036/10000 correctly (40.36% accuracy)\n",
            "Epoch: 15/20, learning_rate=[0.00046329123015975297] train_loss=1.69, val_loss=2.08. labelled 4387/10000 correctly (43.87% accuracy)\n",
            "Epoch: 16/20, learning_rate=[0.0004401266686517653] train_loss=1.64, val_loss=1.88. labelled 4971/10000 correctly (49.71% accuracy)\n",
            "Epoch: 17/20, learning_rate=[0.00041812033521917703] train_loss=1.59, val_loss=1.90. labelled 4775/10000 correctly (47.75% accuracy)\n",
            "Epoch: 18/20, learning_rate=[0.00039721431845821814] train_loss=1.56, val_loss=1.89. labelled 4864/10000 correctly (48.64% accuracy)\n",
            "Epoch: 19/20, learning_rate=[0.0003773536025353072] train_loss=1.51, val_loss=2.01. labelled 4727/10000 correctly (47.27% accuracy)\n",
            "Epoch: 20/20, learning_rate=[0.0003584859224085418] train_loss=1.47, val_loss=1.85. labelled 4981/10000 correctly (49.81% accuracy)\n",
            "Training Done\n"
          ]
        }
      ]
    },
    {
      "cell_type": "code",
      "source": [
        "cycle_train_losses, cycle_val_losses = train(10)\n",
        "\n",
        "train_losses += cycle_train_losses\n",
        "val_losses += cycle_val_losses"
      ],
      "metadata": {
        "colab": {
          "base_uri": "https://localhost:8080/"
        },
        "id": "xdlyqhS91u98",
        "outputId": "4df7b881-ca48-47ee-b440-d3835ac0bca6"
      },
      "execution_count": 23,
      "outputs": [
        {
          "output_type": "stream",
          "name": "stdout",
          "text": [
            "Epoch: 1/10, learning_rate=[0.0003405616262881147] train_loss=1.42, val_loss=1.69. labelled 5313/10000 correctly (53.13% accuracy)\n",
            "Epoch: 2/10, learning_rate=[0.00032353354497370894] train_loss=1.38, val_loss=1.86. labelled 5019/10000 correctly (50.19% accuracy)\n",
            "Epoch: 3/10, learning_rate=[0.00030735686772502346] train_loss=1.34, val_loss=1.99. labelled 4710/10000 correctly (47.10% accuracy)\n",
            "Epoch: 4/10, learning_rate=[0.00029198902433877225] train_loss=1.31, val_loss=1.61. labelled 5558/10000 correctly (55.58% accuracy)\n",
            "Epoch: 5/10, learning_rate=[0.00027738957312183364] train_loss=1.27, val_loss=1.62. labelled 5565/10000 correctly (55.65% accuracy)\n",
            "Epoch: 6/10, learning_rate=[0.0002635200944657419] train_loss=1.23, val_loss=1.63. labelled 5515/10000 correctly (55.15% accuracy)\n",
            "Epoch: 7/10, learning_rate=[0.0002503440897424548] train_loss=1.20, val_loss=1.65. labelled 5427/10000 correctly (54.27% accuracy)\n",
            "Epoch: 8/10, learning_rate=[0.00023782688525533205] train_loss=1.16, val_loss=1.54. labelled 5678/10000 correctly (56.78% accuracy)\n",
            "Epoch: 9/10, learning_rate=[0.00022593554099256544] train_loss=1.13, val_loss=1.59. labelled 5611/10000 correctly (56.11% accuracy)\n",
            "Epoch: 10/10, learning_rate=[0.00021463876394293716] train_loss=1.10, val_loss=1.62. labelled 5551/10000 correctly (55.51% accuracy)\n",
            "Training Done\n"
          ]
        }
      ]
    },
    {
      "cell_type": "code",
      "source": [
        "plt.plot(train_losses, label='train loss')\n",
        "plt.plot(val_losses, label='val loss')\n",
        "plt.xlabel('Epoch')\n",
        "plt.ylabel('Loss (Cross Entropy)')\n",
        "plt.legend()\n",
        "plt.show()"
      ],
      "metadata": {
        "colab": {
          "base_uri": "https://localhost:8080/",
          "height": 449
        },
        "id": "LIGxOJ-WVIhr",
        "outputId": "3b299a57-6d42-4a2d-ca99-78dfce671148"
      },
      "execution_count": 24,
      "outputs": [
        {
          "output_type": "display_data",
          "data": {
            "text/plain": [
              "<Figure size 640x480 with 1 Axes>"
            ],
            "image/png": "[encoded data removed]"
          },
          "metadata": {}
        }
      ]
    },
    {
      "cell_type": "code",
      "source": [
        "model.eval()\n",
        "correctly_labelled = 0\n",
        "with torch.no_grad():\n",
        "    val_epoch_losses = 0\n",
        "    for test_batch_x, test_batch_y in test_loader:\n",
        "        test_batch_x = test_batch_x.to(device)\n",
        "        test_batch_y = test_batch_y.to(device)\n",
        "\n",
        "        test_batch_y_preds = model(test_batch_x)\n",
        "        test_loss = criterion(test_batch_y_preds, test_batch_y)\n",
        "\n",
        "        correctly_labelled += (test_batch_y_preds.argmax(dim=1) == test_batch_y).sum().item()\n",
        "\n",
        "    test_epoch_loss = val_epoch_losses/len(test_loader.dataset)\n",
        "    print(f'Labelled {correctly_labelled}/{len(test_loader.dataset)} correctly ({correctly_labelled/len(test_loader.dataset)*100}% accuracy)')\n"
      ],
      "metadata": {
        "colab": {
          "base_uri": "https://localhost:8080/"
        },
        "id": "BT-KrcuPVLwB",
        "outputId": "f550b4fa-6e4e-480f-cdf8-146a12cf06bb"
      },
      "execution_count": 25,
      "outputs": [
        {
          "output_type": "stream",
          "name": "stdout",
          "text": [
            "Labelled 5653/10000 correctly (56.53% accuracy)\n"
          ]
        }
      ]
    },
    {
      "cell_type": "code",
      "source": [
        "print(model)"
      ],
      "metadata": {
        "colab": {
          "base_uri": "https://localhost:8080/"
        },
        "id": "rIJOR4Y13uDT",
        "outputId": "be265f63-9a7f-4dcf-f60e-f86fe6a0e8df"
      },
      "execution_count": 26,
      "outputs": [
        {
          "output_type": "stream",
          "name": "stdout",
          "text": [
            "Resnet9(\n",
            "  (conv1): Sequential(\n",
            "    (0): Conv2d(3, 64, kernel_size=(3, 3), stride=(1, 1), padding=(1, 1))\n",
            "    (1): BatchNorm2d(64, eps=1e-05, momentum=0.1, affine=True, track_running_stats=True)\n",
            "    (2): ReLU(inplace=True)\n",
            "  )\n",
            "  (conv2): Sequential(\n",
            "    (0): Conv2d(64, 128, kernel_size=(3, 3), stride=(1, 1), padding=(1, 1))\n",
            "    (1): BatchNorm2d(128, eps=1e-05, momentum=0.1, affine=True, track_running_stats=True)\n",
            "    (2): ReLU(inplace=True)\n",
            "    (3): MaxPool2d(kernel_size=2, stride=2, padding=0, dilation=1, ceil_mode=False)\n",
            "  )\n",
            "  (res1): Sequential(\n",
            "    (0): Sequential(\n",
            "      (0): Conv2d(128, 128, kernel_size=(3, 3), stride=(1, 1), padding=(1, 1))\n",
            "      (1): BatchNorm2d(128, eps=1e-05, momentum=0.1, affine=True, track_running_stats=True)\n",
            "      (2): ReLU(inplace=True)\n",
            "    )\n",
            "    (1): Sequential(\n",
            "      (0): Conv2d(128, 128, kernel_size=(3, 3), stride=(1, 1), padding=(1, 1))\n",
            "      (1): BatchNorm2d(128, eps=1e-05, momentum=0.1, affine=True, track_running_stats=True)\n",
            "      (2): ReLU(inplace=True)\n",
            "    )\n",
            "  )\n",
            "  (conv3): Sequential(\n",
            "    (0): Conv2d(128, 256, kernel_size=(3, 3), stride=(1, 1), padding=(1, 1))\n",
            "    (1): BatchNorm2d(256, eps=1e-05, momentum=0.1, affine=True, track_running_stats=True)\n",
            "    (2): ReLU(inplace=True)\n",
            "    (3): MaxPool2d(kernel_size=2, stride=2, padding=0, dilation=1, ceil_mode=False)\n",
            "  )\n",
            "  (conv4): Sequential(\n",
            "    (0): Conv2d(256, 256, kernel_size=(3, 3), stride=(1, 1), padding=(1, 1))\n",
            "    (1): BatchNorm2d(256, eps=1e-05, momentum=0.1, affine=True, track_running_stats=True)\n",
            "    (2): ReLU(inplace=True)\n",
            "    (3): MaxPool2d(kernel_size=2, stride=2, padding=0, dilation=1, ceil_mode=False)\n",
            "  )\n",
            "  (res2): Sequential(\n",
            "    (0): Sequential(\n",
            "      (0): Conv2d(256, 256, kernel_size=(3, 3), stride=(1, 1), padding=(1, 1))\n",
            "      (1): BatchNorm2d(256, eps=1e-05, momentum=0.1, affine=True, track_running_stats=True)\n",
            "      (2): ReLU(inplace=True)\n",
            "    )\n",
            "    (1): Sequential(\n",
            "      (0): Conv2d(256, 256, kernel_size=(3, 3), stride=(1, 1), padding=(1, 1))\n",
            "      (1): BatchNorm2d(256, eps=1e-05, momentum=0.1, affine=True, track_running_stats=True)\n",
            "      (2): ReLU(inplace=True)\n",
            "    )\n",
            "  )\n",
            "  (fc): Sequential(\n",
            "    (0): MaxPool2d(kernel_size=2, stride=2, padding=0, dilation=1, ceil_mode=False)\n",
            "    (1): Flatten(start_dim=1, end_dim=-1)\n",
            "    (2): Linear(in_features=1024, out_features=512, bias=True)\n",
            "    (3): ReLU()\n",
            "    (4): Linear(in_features=512, out_features=100, bias=True)\n",
            "  )\n",
            ")\n"
          ]
        }
      ]
    }
  ]
}