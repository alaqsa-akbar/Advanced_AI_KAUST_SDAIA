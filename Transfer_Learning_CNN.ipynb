{
  "nbformat": 4,
  "nbformat_minor": 0,
  "metadata": {
    "colab": {
      "provenance": [],
      "gpuType": "T4"
    },
    "kernelspec": {
      "name": "python3",
      "display_name": "Python 3"
    },
    "language_info": {
      "name": "python"
    },
    "accelerator": "GPU"
  },
  "cells": [
    {
      "cell_type": "code",
      "execution_count": null,
      "metadata": {
        "id": "biXWg9VaNYF1"
      },
      "outputs": [],
      "source": [
        "import torch\n",
        "import matplotlib.pyplot as plt\n",
        "import torch.nn as nn\n",
        "from torchvision.datasets import CIFAR10, MNIST\n",
        "import torch.optim as optim\n",
        "from torch.utils.data import DataLoader\n",
        "import torchvision.transforms as T\n",
        "from torchvision.models import resnet18"
      ]
    },
    {
      "cell_type": "code",
      "source": [
        "train_set = CIFAR10(root='/', download=True, train=True, transform=T.ToTensor())\n",
        "train_set, val_set = torch.utils.data.random_split(train_set, [0.8, 0.2])\n",
        "test_set = CIFAR10(root='/', download=True, train=False, transform=T.ToTensor())"
      ],
      "metadata": {
        "colab": {
          "base_uri": "https://localhost:8080/"
        },
        "id": "PLaQENz9NwCg",
        "outputId": "55c20e46-f368-4496-a4e9-9a29546c0657"
      },
      "execution_count": null,
      "outputs": [
        {
          "output_type": "stream",
          "name": "stdout",
          "text": [
            "Files already downloaded and verified\n",
            "Files already downloaded and verified\n"
          ]
        }
      ]
    },
    {
      "cell_type": "code",
      "source": [
        "train_loader = DataLoader(train_set, batch_size=64, shuffle=True)\n",
        "val_loader = DataLoader(val_set, batch_size=64, shuffle=True)\n",
        "test_loader = DataLoader(test_set, batch_size=64, shuffle=False)"
      ],
      "metadata": {
        "id": "kBMW87qPOU9h"
      },
      "execution_count": null,
      "outputs": []
    },
    {
      "cell_type": "code",
      "source": [
        "model = resnet18(pretrained=True)"
      ],
      "metadata": {
        "id": "rEbLbwOb7M-s"
      },
      "execution_count": null,
      "outputs": []
    },
    {
      "cell_type": "code",
      "source": [
        "print(model)"
      ],
      "metadata": {
        "colab": {
          "base_uri": "https://localhost:8080/"
        },
        "id": "ln-YqNrXB6kA",
        "outputId": "3632bc09-95cc-4fba-8dd5-e7f7eb450994"
      },
      "execution_count": null,
      "outputs": [
        {
          "output_type": "stream",
          "name": "stdout",
          "text": [
            "ResNet(\n",
            "  (conv1): Conv2d(3, 64, kernel_size=(7, 7), stride=(2, 2), padding=(3, 3), bias=False)\n",
            "  (bn1): BatchNorm2d(64, eps=1e-05, momentum=0.1, affine=True, track_running_stats=True)\n",
            "  (relu): ReLU(inplace=True)\n",
            "  (maxpool): MaxPool2d(kernel_size=3, stride=2, padding=1, dilation=1, ceil_mode=False)\n",
            "  (layer1): Sequential(\n",
            "    (0): BasicBlock(\n",
            "      (conv1): Conv2d(64, 64, kernel_size=(3, 3), stride=(1, 1), padding=(1, 1), bias=False)\n",
            "      (bn1): BatchNorm2d(64, eps=1e-05, momentum=0.1, affine=True, track_running_stats=True)\n",
            "      (relu): ReLU(inplace=True)\n",
            "      (conv2): Conv2d(64, 64, kernel_size=(3, 3), stride=(1, 1), padding=(1, 1), bias=False)\n",
            "      (bn2): BatchNorm2d(64, eps=1e-05, momentum=0.1, affine=True, track_running_stats=True)\n",
            "    )\n",
            "    (1): BasicBlock(\n",
            "      (conv1): Conv2d(64, 64, kernel_size=(3, 3), stride=(1, 1), padding=(1, 1), bias=False)\n",
            "      (bn1): BatchNorm2d(64, eps=1e-05, momentum=0.1, affine=True, track_running_stats=True)\n",
            "      (relu): ReLU(inplace=True)\n",
            "      (conv2): Conv2d(64, 64, kernel_size=(3, 3), stride=(1, 1), padding=(1, 1), bias=False)\n",
            "      (bn2): BatchNorm2d(64, eps=1e-05, momentum=0.1, affine=True, track_running_stats=True)\n",
            "    )\n",
            "  )\n",
            "  (layer2): Sequential(\n",
            "    (0): BasicBlock(\n",
            "      (conv1): Conv2d(64, 128, kernel_size=(3, 3), stride=(2, 2), padding=(1, 1), bias=False)\n",
            "      (bn1): BatchNorm2d(128, eps=1e-05, momentum=0.1, affine=True, track_running_stats=True)\n",
            "      (relu): ReLU(inplace=True)\n",
            "      (conv2): Conv2d(128, 128, kernel_size=(3, 3), stride=(1, 1), padding=(1, 1), bias=False)\n",
            "      (bn2): BatchNorm2d(128, eps=1e-05, momentum=0.1, affine=True, track_running_stats=True)\n",
            "      (downsample): Sequential(\n",
            "        (0): Conv2d(64, 128, kernel_size=(1, 1), stride=(2, 2), bias=False)\n",
            "        (1): BatchNorm2d(128, eps=1e-05, momentum=0.1, affine=True, track_running_stats=True)\n",
            "      )\n",
            "    )\n",
            "    (1): BasicBlock(\n",
            "      (conv1): Conv2d(128, 128, kernel_size=(3, 3), stride=(1, 1), padding=(1, 1), bias=False)\n",
            "      (bn1): BatchNorm2d(128, eps=1e-05, momentum=0.1, affine=True, track_running_stats=True)\n",
            "      (relu): ReLU(inplace=True)\n",
            "      (conv2): Conv2d(128, 128, kernel_size=(3, 3), stride=(1, 1), padding=(1, 1), bias=False)\n",
            "      (bn2): BatchNorm2d(128, eps=1e-05, momentum=0.1, affine=True, track_running_stats=True)\n",
            "    )\n",
            "  )\n",
            "  (layer3): Sequential(\n",
            "    (0): BasicBlock(\n",
            "      (conv1): Conv2d(128, 256, kernel_size=(3, 3), stride=(2, 2), padding=(1, 1), bias=False)\n",
            "      (bn1): BatchNorm2d(256, eps=1e-05, momentum=0.1, affine=True, track_running_stats=True)\n",
            "      (relu): ReLU(inplace=True)\n",
            "      (conv2): Conv2d(256, 256, kernel_size=(3, 3), stride=(1, 1), padding=(1, 1), bias=False)\n",
            "      (bn2): BatchNorm2d(256, eps=1e-05, momentum=0.1, affine=True, track_running_stats=True)\n",
            "      (downsample): Sequential(\n",
            "        (0): Conv2d(128, 256, kernel_size=(1, 1), stride=(2, 2), bias=False)\n",
            "        (1): BatchNorm2d(256, eps=1e-05, momentum=0.1, affine=True, track_running_stats=True)\n",
            "      )\n",
            "    )\n",
            "    (1): BasicBlock(\n",
            "      (conv1): Conv2d(256, 256, kernel_size=(3, 3), stride=(1, 1), padding=(1, 1), bias=False)\n",
            "      (bn1): BatchNorm2d(256, eps=1e-05, momentum=0.1, affine=True, track_running_stats=True)\n",
            "      (relu): ReLU(inplace=True)\n",
            "      (conv2): Conv2d(256, 256, kernel_size=(3, 3), stride=(1, 1), padding=(1, 1), bias=False)\n",
            "      (bn2): BatchNorm2d(256, eps=1e-05, momentum=0.1, affine=True, track_running_stats=True)\n",
            "    )\n",
            "  )\n",
            "  (layer4): Sequential(\n",
            "    (0): BasicBlock(\n",
            "      (conv1): Conv2d(256, 512, kernel_size=(3, 3), stride=(2, 2), padding=(1, 1), bias=False)\n",
            "      (bn1): BatchNorm2d(512, eps=1e-05, momentum=0.1, affine=True, track_running_stats=True)\n",
            "      (relu): ReLU(inplace=True)\n",
            "      (conv2): Conv2d(512, 512, kernel_size=(3, 3), stride=(1, 1), padding=(1, 1), bias=False)\n",
            "      (bn2): BatchNorm2d(512, eps=1e-05, momentum=0.1, affine=True, track_running_stats=True)\n",
            "      (downsample): Sequential(\n",
            "        (0): Conv2d(256, 512, kernel_size=(1, 1), stride=(2, 2), bias=False)\n",
            "        (1): BatchNorm2d(512, eps=1e-05, momentum=0.1, affine=True, track_running_stats=True)\n",
            "      )\n",
            "    )\n",
            "    (1): BasicBlock(\n",
            "      (conv1): Conv2d(512, 512, kernel_size=(3, 3), stride=(1, 1), padding=(1, 1), bias=False)\n",
            "      (bn1): BatchNorm2d(512, eps=1e-05, momentum=0.1, affine=True, track_running_stats=True)\n",
            "      (relu): ReLU(inplace=True)\n",
            "      (conv2): Conv2d(512, 512, kernel_size=(3, 3), stride=(1, 1), padding=(1, 1), bias=False)\n",
            "      (bn2): BatchNorm2d(512, eps=1e-05, momentum=0.1, affine=True, track_running_stats=True)\n",
            "    )\n",
            "  )\n",
            "  (avgpool): AdaptiveAvgPool2d(output_size=(1, 1))\n",
            "  (fc): Linear(in_features=512, out_features=1000, bias=True)\n",
            ")\n"
          ]
        }
      ]
    },
    {
      "cell_type": "code",
      "source": [
        "for param in model.parameters():\n",
        "    param.requires_grad = False"
      ],
      "metadata": {
        "id": "Zj3RZzshCRbI"
      },
      "execution_count": null,
      "outputs": []
    },
    {
      "cell_type": "code",
      "source": [
        "model.fc = nn.Linear(512, 10)"
      ],
      "metadata": {
        "id": "nyr9owwMCDB5"
      },
      "execution_count": null,
      "outputs": []
    },
    {
      "cell_type": "code",
      "source": [
        "device=torch.device('cuda' if torch.cuda.is_available() else 'cpu')\n",
        "model = model.to(device)\n",
        "\n",
        "lr=1e-4\n",
        "num_epochs=10\n",
        "criterion=nn.CrossEntropyLoss()\n",
        "\n",
        "optimizer=optim.Adam(model.parameters(), lr=lr)"
      ],
      "metadata": {
        "id": "dR3EL0PjRW3i"
      },
      "execution_count": null,
      "outputs": []
    },
    {
      "cell_type": "code",
      "source": [
        "%%time\n",
        "\n",
        "val_losses = []\n",
        "train_losses = []\n",
        "\n",
        "for epoch_num in range(num_epochs):\n",
        "    model.train()\n",
        "\n",
        "    epoch_losses = 0\n",
        "\n",
        "    for batch_x, batch_y in train_loader:\n",
        "        batch_x = batch_x.to(device)\n",
        "        batch_y = batch_y.to(device)\n",
        "\n",
        "        batch_y_preds = model(batch_x)\n",
        "\n",
        "        loss = criterion(batch_y_preds, batch_y)\n",
        "\n",
        "        optimizer.zero_grad()\n",
        "        loss.backward()\n",
        "        optimizer.step()\n",
        "\n",
        "        epoch_losses += (len(batch_y)*loss.item())\n",
        "\n",
        "    epoch_loss = epoch_losses/len(train_loader.dataset)\n",
        "    train_losses.append(epoch_loss)\n",
        "\n",
        "    model.eval()\n",
        "    correctly_labelled = 0\n",
        "    with torch.no_grad():\n",
        "        val_epoch_losses = 0\n",
        "        for val_batch_x, val_batch_y in val_loader:\n",
        "            val_batch_x = val_batch_x.to(device)\n",
        "            val_batch_y = val_batch_y.to(device)\n",
        "\n",
        "            val_batch_y_preds = model(val_batch_x)\n",
        "            val_loss = criterion(val_batch_y_preds, val_batch_y)\n",
        "            val_epoch_losses += (len(val_batch_y)*val_loss.item())\n",
        "\n",
        "            correctly_labelled += (val_batch_y_preds.argmax(dim=1) == val_batch_y).sum().item()\n",
        "\n",
        "        val_epoch_loss = val_epoch_losses/len(val_loader.dataset)\n",
        "        val_losses.append(val_epoch_loss)\n",
        "\n",
        "    print(f'Epoch: {epoch_num}, train_loss={epoch_loss}, val_loss={val_epoch_loss}. labelled {correctly_labelled}/{len(val_loader.dataset)} correctly ({correctly_labelled/len(val_loader.dataset)*100}% accuracy)')\n",
        "print('Training Done')"
      ],
      "metadata": {
        "colab": {
          "base_uri": "https://localhost:8080/"
        },
        "id": "Ls7HkkJ0ScMX",
        "outputId": "0c470e5f-a63a-4685-f987-4416ce114b23"
      },
      "execution_count": null,
      "outputs": [
        {
          "metadata": {
            "tags": null
          },
          "name": "stdout",
          "output_type": "stream",
          "text": [
            "Epoch: 0, train_loss=2.1482462009429932, val_loss=1.92243489112854. labelled 3334/10000 correctly (33.339999999999996% accuracy)\n",
            "Epoch: 1, train_loss=1.8310253160476684, val_loss=1.7682849805831908. labelled 3929/10000 correctly (39.290000000000006% accuracy)\n",
            "Epoch: 2, train_loss=1.7338214820861817, val_loss=1.7094443748474122. labelled 4160/10000 correctly (41.6% accuracy)\n",
            "Epoch: 3, train_loss=1.6869874685287476, val_loss=1.6723363162994385. labelled 4296/10000 correctly (42.96% accuracy)\n",
            "Epoch: 4, train_loss=1.6580499084472655, val_loss=1.6490480171203614. labelled 4349/10000 correctly (43.49% accuracy)\n",
            "Epoch: 5, train_loss=1.6309463632583618, val_loss=1.636291713142395. labelled 4402/10000 correctly (44.019999999999996% accuracy)\n",
            "Epoch: 6, train_loss=1.6166011754989624, val_loss=1.6227040302276612. labelled 4454/10000 correctly (44.54% accuracy)\n",
            "Epoch: 7, train_loss=1.6001444622039795, val_loss=1.610023844909668. labelled 4494/10000 correctly (44.940000000000005% accuracy)\n",
            "Epoch: 8, train_loss=1.590936831665039, val_loss=1.603533044052124. labelled 4526/10000 correctly (45.26% accuracy)\n",
            "Epoch: 9, train_loss=1.5863943950653077, val_loss=1.5947125343322754. labelled 4557/10000 correctly (45.57% accuracy)\n",
            "Training Done\n",
            "CPU times: user 1min 54s, sys: 509 ms, total: 1min 55s\n",
            "Wall time: 1min 56s\n"
          ]
        }
      ]
    },
    {
      "cell_type": "code",
      "source": [
        "for param in model.parameters():\n",
        "    param.requires_grad = True"
      ],
      "metadata": {
        "id": "Ui_NLbjRGzRo"
      },
      "execution_count": null,
      "outputs": []
    },
    {
      "cell_type": "code",
      "source": [
        "%%time\n",
        "\n",
        "val_losses = []\n",
        "train_losses = []\n",
        "\n",
        "for epoch_num in range(num_epochs):\n",
        "    model.train()\n",
        "\n",
        "    epoch_losses = 0\n",
        "\n",
        "    for batch_x, batch_y in train_loader:\n",
        "        batch_x = batch_x.to(device)\n",
        "        batch_y = batch_y.to(device)\n",
        "\n",
        "        batch_y_preds = model(batch_x)\n",
        "\n",
        "        loss = criterion(batch_y_preds, batch_y)\n",
        "\n",
        "        optimizer.zero_grad()\n",
        "        loss.backward()\n",
        "        optimizer.step()\n",
        "\n",
        "        epoch_losses += (len(batch_y)*loss.item())\n",
        "\n",
        "    epoch_loss = epoch_losses/len(train_loader.dataset)\n",
        "    train_losses.append(epoch_loss)\n",
        "\n",
        "    model.eval()\n",
        "    correctly_labelled = 0\n",
        "    with torch.no_grad():\n",
        "        val_epoch_losses = 0\n",
        "        for val_batch_x, val_batch_y in val_loader:\n",
        "            val_batch_x = val_batch_x.to(device)\n",
        "            val_batch_y = val_batch_y.to(device)\n",
        "\n",
        "            val_batch_y_preds = model(val_batch_x)\n",
        "            val_loss = criterion(val_batch_y_preds, val_batch_y)\n",
        "            val_epoch_losses += (len(val_batch_y)*val_loss.item())\n",
        "\n",
        "            correctly_labelled += (val_batch_y_preds.argmax(dim=1) == val_batch_y).sum().item()\n",
        "\n",
        "        val_epoch_loss = val_epoch_losses/len(val_loader.dataset)\n",
        "        val_losses.append(val_epoch_loss)\n",
        "\n",
        "    print(f'Epoch: {epoch_num}, train_loss={epoch_loss}, val_loss={val_epoch_loss}. labelled {correctly_labelled}/{len(val_loader.dataset)} correctly ({correctly_labelled/len(val_loader.dataset)*100}% accuracy)')\n",
        "print('Training Done')"
      ],
      "metadata": {
        "colab": {
          "base_uri": "https://localhost:8080/"
        },
        "id": "219GPZsPHFeK",
        "outputId": "0d06aea6-fba8-41d3-ba9f-a729fcf0fcff"
      },
      "execution_count": null,
      "outputs": [
        {
          "output_type": "stream",
          "name": "stdout",
          "text": [
            "Epoch: 0, train_loss=1.0019244759559631, val_loss=0.7437399120330811. labelled 7403/10000 correctly (74.03% accuracy)\n",
            "Epoch: 1, train_loss=0.6044204613208771, val_loss=0.6641092619419098. labelled 7739/10000 correctly (77.39% accuracy)\n",
            "Epoch: 2, train_loss=0.4331920800924301, val_loss=0.6419153155326843. labelled 7882/10000 correctly (78.82000000000001% accuracy)\n",
            "Epoch: 3, train_loss=0.3077313710689545, val_loss=0.6681071364879608. labelled 7879/10000 correctly (78.79% accuracy)\n",
            "Epoch: 4, train_loss=0.21897355932593346, val_loss=0.6994491969108582. labelled 7934/10000 correctly (79.34% accuracy)\n",
            "Epoch: 5, train_loss=0.16950663396120072, val_loss=0.7398493370056153. labelled 7974/10000 correctly (79.74% accuracy)\n",
            "Epoch: 6, train_loss=0.1370292996674776, val_loss=0.7713030190467834. labelled 7967/10000 correctly (79.67% accuracy)\n",
            "Epoch: 7, train_loss=0.11223473847061395, val_loss=0.8318769368171692. labelled 7907/10000 correctly (79.07% accuracy)\n",
            "Epoch: 8, train_loss=0.09866741246953607, val_loss=0.8752633759975433. labelled 7925/10000 correctly (79.25% accuracy)\n",
            "Epoch: 9, train_loss=0.08579994524270296, val_loss=0.9091104215621948. labelled 7911/10000 correctly (79.11% accuracy)\n",
            "Training Done\n",
            "CPU times: user 2min 52s, sys: 586 ms, total: 2min 53s\n",
            "Wall time: 2min 54s\n"
          ]
        }
      ]
    },
    {
      "cell_type": "code",
      "source": [
        "plt.plot(train_losses, label='train loss')\n",
        "plt.plot(val_losses, label='val loss')\n",
        "plt.xlabel('Epoch')\n",
        "plt.ylabel('Loss (Cross Entropy)')\n",
        "plt.legend()\n",
        "plt.show()"
      ],
      "metadata": {
        "colab": {
          "base_uri": "https://localhost:8080/",
          "height": 449
        },
        "id": "LIGxOJ-WVIhr",
        "outputId": "76851cfc-a4af-44bd-a1d9-7f0655892e71"
      },
      "execution_count": null,
      "outputs": [
        {
          "output_type": "display_data",
          "data": {
            "text/plain": [
              "<Figure size 640x480 with 1 Axes>"
            ],
            "image/png": "[encoded data removed]"
          },
          "metadata": {}
        }
      ]
    },
    {
      "cell_type": "code",
      "source": [
        "model.eval()\n",
        "correctly_labelled = 0\n",
        "with torch.no_grad():\n",
        "    val_epoch_losses = 0\n",
        "    for test_batch_x, test_batch_y in test_loader:\n",
        "        test_batch_x = test_batch_x.to(device)\n",
        "        test_batch_y = test_batch_y.to(device)\n",
        "\n",
        "        test_batch_y_preds = model(test_batch_x)\n",
        "        test_loss = criterion(test_batch_y_preds, test_batch_y)\n",
        "\n",
        "        correctly_labelled += (test_batch_y_preds.argmax(dim=1) == test_batch_y).sum().item()\n",
        "\n",
        "    test_epoch_loss = val_epoch_losses/len(test_loader.dataset)\n",
        "    print(f'Labelled {correctly_labelled}/{len(test_loader.dataset)} correctly ({correctly_labelled/len(test_loader.dataset)*100}% accuracy)')\n"
      ],
      "metadata": {
        "colab": {
          "base_uri": "https://localhost:8080/"
        },
        "id": "BT-KrcuPVLwB",
        "outputId": "0432b945-4b88-4ecf-8d3e-06ac26950122"
      },
      "execution_count": null,
      "outputs": [
        {
          "output_type": "stream",
          "name": "stdout",
          "text": [
            "Labelled 7949/10000 correctly (79.49000000000001% accuracy)\n"
          ]
        }
      ]
    }
  ]
}